{
 "cells": [
  {
   "cell_type": "markdown",
   "id": "1f0bed6e",
   "metadata": {},
   "source": [
    "# Ridge Regression"
   ]
  },
  {
   "cell_type": "markdown",
   "id": "053658b8",
   "metadata": {},
   "source": [
    "#### import required packages"
   ]
  },
  {
   "cell_type": "code",
   "execution_count": 1,
   "id": "891214c7",
   "metadata": {},
   "outputs": [],
   "source": [
    "import numpy as np\n",
    "import pandas as pd\n",
    "import matplotlib.pyplot as plt\n",
    "import seaborn as sns"
   ]
  },
  {
   "cell_type": "markdown",
   "id": "dde3cacc",
   "metadata": {},
   "source": [
    "#### load the data"
   ]
  },
  {
   "cell_type": "code",
   "execution_count": 2,
   "id": "e69aeaee",
   "metadata": {},
   "outputs": [
    {
     "name": "stdout",
     "output_type": "stream",
     "text": [
      "         RnD  Administration  Marketing       State     Profit\n",
      "0  165349.20       136897.80  471784.10    New York  192261.83\n",
      "1  162597.70       151377.59  443898.53  California  191792.06\n",
      "2  153441.51       101145.55  407934.54     Florida  191050.39\n",
      "3  144372.41       118671.85  383199.62    New York  182901.99\n",
      "4  142107.34        91391.77  366168.42     Florida  166187.94\n"
     ]
    }
   ],
   "source": [
    "df = pd.read_csv('50_Startups.csv')\n",
    "print(df.head())"
   ]
  },
  {
   "cell_type": "markdown",
   "id": "808d9ba0",
   "metadata": {},
   "source": [
    "#### data cleansing "
   ]
  },
  {
   "cell_type": "code",
   "execution_count": 3,
   "id": "7587daf4",
   "metadata": {},
   "outputs": [],
   "source": [
    "# decide x and y\n",
    "x = df.drop(['Profit', 'State'], axis=1)\n",
    "y = df['Profit']"
   ]
  },
  {
   "cell_type": "code",
   "execution_count": 4,
   "id": "c58d00a9",
   "metadata": {},
   "outputs": [],
   "source": [
    "# split the data into train and test\n",
    "from sklearn.model_selection import train_test_split\n",
    "\n",
    "x_train, x_test, y_train, y_test = train_test_split(x, y, train_size=0.8, random_state=123456)"
   ]
  },
  {
   "cell_type": "markdown",
   "id": "df734926",
   "metadata": {},
   "source": [
    "#### Linear Regression"
   ]
  },
  {
   "cell_type": "code",
   "execution_count": 5,
   "id": "7387001c",
   "metadata": {},
   "outputs": [
    {
     "data": {
      "text/plain": [
       "LinearRegression()"
      ]
     },
     "execution_count": 5,
     "metadata": {},
     "output_type": "execute_result"
    }
   ],
   "source": [
    "from sklearn.linear_model import LinearRegression\n",
    "\n",
    "# create the model\n",
    "model = LinearRegression()\n",
    "\n",
    "# train the model\n",
    "model.fit(x_train, y_train)"
   ]
  },
  {
   "cell_type": "code",
   "execution_count": 6,
   "id": "b6c66e07",
   "metadata": {},
   "outputs": [
    {
     "name": "stdout",
     "output_type": "stream",
     "text": [
      "[ 0.78981513 -0.01667095  0.02281105]\n"
     ]
    }
   ],
   "source": [
    "print(model.coef_)"
   ]
  },
  {
   "cell_type": "markdown",
   "id": "3a1329d2",
   "metadata": {},
   "source": [
    "#### predict the values"
   ]
  },
  {
   "cell_type": "code",
   "execution_count": 7,
   "id": "195d708d",
   "metadata": {},
   "outputs": [
    {
     "name": "stdout",
     "output_type": "stream",
     "text": [
      "[ 67329.47406593 117366.3802916   91360.40144635 154304.50169146\n",
      "  76117.37130998  98755.52129056  50827.79389197  99500.68282807\n",
      " 129036.46220559 103456.53045388]\n"
     ]
    }
   ],
   "source": [
    "y_prediction = model.predict(x_test)\n",
    "print(y_prediction)"
   ]
  },
  {
   "cell_type": "markdown",
   "id": "5b9f0789",
   "metadata": {},
   "source": [
    "#### Ridge model building"
   ]
  },
  {
   "cell_type": "code",
   "execution_count": 8,
   "id": "b96fb1cc",
   "metadata": {},
   "outputs": [
    {
     "data": {
      "text/plain": [
       "Ridge()"
      ]
     },
     "execution_count": 8,
     "metadata": {},
     "output_type": "execute_result"
    }
   ],
   "source": [
    "from sklearn.linear_model import Ridge\n",
    "\n",
    "# create the model\n",
    "model = Ridge()\n",
    "\n",
    "# train the model\n",
    "model.fit(x_train, y_train)"
   ]
  },
  {
   "cell_type": "code",
   "execution_count": 9,
   "id": "2a98abb4",
   "metadata": {},
   "outputs": [
    {
     "name": "stdout",
     "output_type": "stream",
     "text": [
      "[ 0.78981513 -0.01667095  0.02281105]\n"
     ]
    }
   ],
   "source": [
    "print(model.coef_)"
   ]
  },
  {
   "cell_type": "markdown",
   "id": "6dab5d92",
   "metadata": {},
   "source": [
    "#### predict the future values"
   ]
  },
  {
   "cell_type": "code",
   "execution_count": 10,
   "id": "1f81af26",
   "metadata": {},
   "outputs": [
    {
     "name": "stdout",
     "output_type": "stream",
     "text": [
      "[ 67329.47406634 117366.38029182  91360.40144659 154304.50169086\n",
      "  76117.37131037  98755.52129081  50827.79389258  99500.68282798\n",
      " 129036.46220563 103456.53045381]\n"
     ]
    }
   ],
   "source": [
    "y_prediction = model.predict(x_test)\n",
    "print(y_prediction)"
   ]
  },
  {
   "cell_type": "code",
   "execution_count": null,
   "id": "9b784f74",
   "metadata": {},
   "outputs": [],
   "source": []
  }
 ],
 "metadata": {
  "kernelspec": {
   "display_name": "Python 3",
   "language": "python",
   "name": "python3"
  },
  "language_info": {
   "codemirror_mode": {
    "name": "ipython",
    "version": 3
   },
   "file_extension": ".py",
   "mimetype": "text/x-python",
   "name": "python",
   "nbconvert_exporter": "python",
   "pygments_lexer": "ipython3",
   "version": "3.8.2"
  }
 },
 "nbformat": 4,
 "nbformat_minor": 5
}
