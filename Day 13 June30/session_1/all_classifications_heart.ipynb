{
 "cells": [
  {
   "cell_type": "markdown",
   "id": "23cae4d4",
   "metadata": {},
   "source": [
    "# Classification Models Comparison"
   ]
  },
  {
   "cell_type": "markdown",
   "id": "503a2447",
   "metadata": {},
   "source": [
    "#### import required packages"
   ]
  },
  {
   "cell_type": "code",
   "execution_count": 1,
   "id": "04b874c5",
   "metadata": {},
   "outputs": [],
   "source": [
    "import numpy as np\n",
    "import pandas as pd\n",
    "import matplotlib.pyplot as plt\n",
    "import seaborn as sns"
   ]
  },
  {
   "cell_type": "markdown",
   "id": "a6527716",
   "metadata": {},
   "source": [
    "#### load the data "
   ]
  },
  {
   "cell_type": "code",
   "execution_count": 2,
   "id": "78b60317",
   "metadata": {},
   "outputs": [
    {
     "name": "stdout",
     "output_type": "stream",
     "text": [
      "   age  sex  cp  trestbps  chol  fbs  restecg  thalach  exang  oldpeak  slope  \\\n",
      "0   63    1   3       145   233    1        0      150      0      2.3      0   \n",
      "1   37    1   2       130   250    0        1      187      0      3.5      0   \n",
      "2   41    0   1       130   204    0        0      172      0      1.4      2   \n",
      "3   56    1   1       120   236    0        1      178      0      0.8      2   \n",
      "4   57    0   0       120   354    0        1      163      1      0.6      2   \n",
      "\n",
      "   ca  thal  target  \n",
      "0   0     1       1  \n",
      "1   0     2       1  \n",
      "2   0     2       1  \n",
      "3   0     2       1  \n",
      "4   0     2       1  \n"
     ]
    }
   ],
   "source": [
    "df = pd.read_csv('heart_disease.csv')\n",
    "print(df.head())"
   ]
  },
  {
   "cell_type": "markdown",
   "id": "3466544c",
   "metadata": {},
   "source": [
    "#### data cleansing process"
   ]
  },
  {
   "cell_type": "code",
   "execution_count": 3,
   "id": "46634363",
   "metadata": {},
   "outputs": [],
   "source": [
    "# decide x and y\n",
    "x = df.drop(['target', 'trestbps', 'chol', 'fbs', 'restecg'], axis=1)\n",
    "y = df['target']"
   ]
  },
  {
   "cell_type": "code",
   "execution_count": 20,
   "id": "0c791e06",
   "metadata": {},
   "outputs": [],
   "source": [
    "# split the data into train and test\n",
    "from sklearn.model_selection import train_test_split\n",
    "\n",
    "x_train, x_test, y_train, y_test = train_test_split(x, y, train_size=0.8, random_state=1234567)"
   ]
  },
  {
   "cell_type": "markdown",
   "id": "b8d0355e",
   "metadata": {},
   "source": [
    "#### model building"
   ]
  },
  {
   "cell_type": "markdown",
   "id": "13dd7221",
   "metadata": {},
   "source": [
    "#### Logistic Regression"
   ]
  },
  {
   "cell_type": "code",
   "execution_count": 21,
   "id": "b84088f7",
   "metadata": {},
   "outputs": [],
   "source": [
    "def logistic_regression():\n",
    "    from sklearn.linear_model import LogisticRegressionCV\n",
    "\n",
    "    # create the model\n",
    "    model = LogisticRegressionCV(max_iter=1000)\n",
    "\n",
    "    # fit the model\n",
    "    model.fit(x_train, y_train)\n",
    "    \n",
    "    evaluate_model(model, 'Logistic Regression')"
   ]
  },
  {
   "cell_type": "markdown",
   "id": "36a5e292",
   "metadata": {},
   "source": [
    "#### naive bayes"
   ]
  },
  {
   "cell_type": "code",
   "execution_count": 22,
   "id": "034c4488",
   "metadata": {},
   "outputs": [],
   "source": [
    "def nb():\n",
    "    from sklearn.naive_bayes import GaussianNB\n",
    "\n",
    "    # create the model\n",
    "    model = GaussianNB()\n",
    "\n",
    "    # fit the model\n",
    "    model.fit(x_train, y_train)\n",
    "    \n",
    "    evaluate_model(model, 'Naive Bayes')"
   ]
  },
  {
   "cell_type": "markdown",
   "id": "9b5ea59f",
   "metadata": {},
   "source": [
    "#### svm"
   ]
  },
  {
   "cell_type": "code",
   "execution_count": 23,
   "id": "19b137ac",
   "metadata": {},
   "outputs": [],
   "source": [
    "def svm():\n",
    "    from sklearn.svm import SVC\n",
    "    \n",
    "    # create the model\n",
    "    model = SVC(C=2.0)\n",
    "\n",
    "    # fit the model\n",
    "    model.fit(x_train, y_train)\n",
    "    \n",
    "    evaluate_model(model, 'SVM')"
   ]
  },
  {
   "cell_type": "markdown",
   "id": "01634c2a",
   "metadata": {},
   "source": [
    "#### KNN"
   ]
  },
  {
   "cell_type": "code",
   "execution_count": 24,
   "id": "f87db00d",
   "metadata": {},
   "outputs": [],
   "source": [
    "def knn():\n",
    "    from sklearn.neighbors import KNeighborsClassifier\n",
    "    \n",
    "    # create the model\n",
    "    model = KNeighborsClassifier()\n",
    "\n",
    "    # fit the model\n",
    "    model.fit(x_train, y_train)\n",
    "    \n",
    "    evaluate_model(model, 'KNN')"
   ]
  },
  {
   "cell_type": "markdown",
   "id": "50bab376",
   "metadata": {},
   "source": [
    "#### decision tree"
   ]
  },
  {
   "cell_type": "code",
   "execution_count": 25,
   "id": "ac52e787",
   "metadata": {},
   "outputs": [],
   "source": [
    "def decision_tree():\n",
    "    from sklearn.tree import DecisionTreeClassifier\n",
    "    \n",
    "    # create the model\n",
    "    model = DecisionTreeClassifier()\n",
    "\n",
    "    # fit the model\n",
    "    model.fit(x_train, y_train)\n",
    "    \n",
    "    evaluate_model(model, 'Decision Tree')"
   ]
  },
  {
   "cell_type": "markdown",
   "id": "bcc8e1c7",
   "metadata": {},
   "source": [
    "#### random forest"
   ]
  },
  {
   "cell_type": "code",
   "execution_count": 26,
   "id": "3eeda69c",
   "metadata": {},
   "outputs": [],
   "source": [
    "def random_forest():\n",
    "    from sklearn.ensemble import RandomForestClassifier\n",
    "    \n",
    "    # create the model\n",
    "    model = RandomForestClassifier(n_estimators=100)\n",
    "\n",
    "    # fit the model\n",
    "    model.fit(x_train, y_train)\n",
    "    \n",
    "    evaluate_model(model, 'Random Forest')"
   ]
  },
  {
   "cell_type": "markdown",
   "id": "3d99cbac",
   "metadata": {},
   "source": [
    "#### evaluation"
   ]
  },
  {
   "cell_type": "code",
   "execution_count": 27,
   "id": "da4da55b",
   "metadata": {},
   "outputs": [],
   "source": [
    "def evaluate_model(model, name):\n",
    "    # predict the values for x_test\n",
    "    y_prediction = model.predict(x_test)\n",
    "    \n",
    "    from sklearn.metrics import accuracy_score, precision_score, recall_score, classification_report\n",
    "    \n",
    "    print(f\"---- {name} evaluation ----\")\n",
    "    \n",
    "    # accuracy\n",
    "    print(f\"accuracy of the model = {accuracy_score(y_test, y_prediction) * 100: 0.2f} %\")\n",
    "    \n",
    "    # classification_report\n",
    "    print(classification_report(y_test, y_prediction))\n",
    "    \n",
    "    print(f\"---- {name} evaluation ----\")"
   ]
  },
  {
   "cell_type": "code",
   "execution_count": 28,
   "id": "840534fd",
   "metadata": {},
   "outputs": [
    {
     "name": "stdout",
     "output_type": "stream",
     "text": [
      "---- Naive Bayes evaluation ----\n",
      "accuracy of the model =  86.89 %\n",
      "              precision    recall  f1-score   support\n",
      "\n",
      "           0       0.89      0.74      0.81        23\n",
      "           1       0.86      0.95      0.90        38\n",
      "\n",
      "    accuracy                           0.87        61\n",
      "   macro avg       0.88      0.84      0.85        61\n",
      "weighted avg       0.87      0.87      0.87        61\n",
      "\n",
      "---- Naive Bayes evaluation ----\n"
     ]
    }
   ],
   "source": [
    "nb()"
   ]
  },
  {
   "cell_type": "code",
   "execution_count": 29,
   "id": "a46190a4",
   "metadata": {},
   "outputs": [
    {
     "name": "stdout",
     "output_type": "stream",
     "text": [
      "---- SVM evaluation ----\n",
      "accuracy of the model =  68.85 %\n",
      "              precision    recall  f1-score   support\n",
      "\n",
      "           0       0.64      0.39      0.49        23\n",
      "           1       0.70      0.87      0.78        38\n",
      "\n",
      "    accuracy                           0.69        61\n",
      "   macro avg       0.67      0.63      0.63        61\n",
      "weighted avg       0.68      0.69      0.67        61\n",
      "\n",
      "---- SVM evaluation ----\n"
     ]
    }
   ],
   "source": [
    "svm()"
   ]
  },
  {
   "cell_type": "code",
   "execution_count": 30,
   "id": "96fb238e",
   "metadata": {},
   "outputs": [
    {
     "name": "stdout",
     "output_type": "stream",
     "text": [
      "---- Decision Tree evaluation ----\n",
      "accuracy of the model =  83.61 %\n",
      "              precision    recall  f1-score   support\n",
      "\n",
      "           0       0.81      0.74      0.77        23\n",
      "           1       0.85      0.89      0.87        38\n",
      "\n",
      "    accuracy                           0.84        61\n",
      "   macro avg       0.83      0.82      0.82        61\n",
      "weighted avg       0.83      0.84      0.83        61\n",
      "\n",
      "---- Decision Tree evaluation ----\n"
     ]
    }
   ],
   "source": [
    "decision_tree()"
   ]
  },
  {
   "cell_type": "code",
   "execution_count": 31,
   "id": "8727d5ee",
   "metadata": {},
   "outputs": [
    {
     "name": "stdout",
     "output_type": "stream",
     "text": [
      "---- Random Forest evaluation ----\n",
      "accuracy of the model =  81.97 %\n",
      "              precision    recall  f1-score   support\n",
      "\n",
      "           0       0.77      0.74      0.76        23\n",
      "           1       0.85      0.87      0.86        38\n",
      "\n",
      "    accuracy                           0.82        61\n",
      "   macro avg       0.81      0.80      0.81        61\n",
      "weighted avg       0.82      0.82      0.82        61\n",
      "\n",
      "---- Random Forest evaluation ----\n"
     ]
    }
   ],
   "source": [
    "random_forest()"
   ]
  },
  {
   "cell_type": "code",
   "execution_count": 32,
   "id": "90371149",
   "metadata": {},
   "outputs": [
    {
     "name": "stdout",
     "output_type": "stream",
     "text": [
      "---- Logistic Regression evaluation ----\n",
      "accuracy of the model =  86.89 %\n",
      "              precision    recall  f1-score   support\n",
      "\n",
      "           0       0.94      0.70      0.80        23\n",
      "           1       0.84      0.97      0.90        38\n",
      "\n",
      "    accuracy                           0.87        61\n",
      "   macro avg       0.89      0.83      0.85        61\n",
      "weighted avg       0.88      0.87      0.86        61\n",
      "\n",
      "---- Logistic Regression evaluation ----\n"
     ]
    }
   ],
   "source": [
    "logistic_regression()"
   ]
  },
  {
   "cell_type": "code",
   "execution_count": 33,
   "id": "c0b50847",
   "metadata": {},
   "outputs": [
    {
     "name": "stdout",
     "output_type": "stream",
     "text": [
      "---- KNN evaluation ----\n",
      "accuracy of the model =  75.41 %\n",
      "              precision    recall  f1-score   support\n",
      "\n",
      "           0       0.72      0.57      0.63        23\n",
      "           1       0.77      0.87      0.81        38\n",
      "\n",
      "    accuracy                           0.75        61\n",
      "   macro avg       0.74      0.72      0.72        61\n",
      "weighted avg       0.75      0.75      0.75        61\n",
      "\n",
      "---- KNN evaluation ----\n"
     ]
    }
   ],
   "source": [
    "knn()"
   ]
  },
  {
   "cell_type": "code",
   "execution_count": null,
   "id": "ab2ac38e",
   "metadata": {},
   "outputs": [],
   "source": []
  },
  {
   "cell_type": "code",
   "execution_count": null,
   "id": "5b67ba56",
   "metadata": {},
   "outputs": [],
   "source": []
  }
 ],
 "metadata": {
  "kernelspec": {
   "display_name": "Python 3",
   "language": "python",
   "name": "python3"
  },
  "language_info": {
   "codemirror_mode": {
    "name": "ipython",
    "version": 3
   },
   "file_extension": ".py",
   "mimetype": "text/x-python",
   "name": "python",
   "nbconvert_exporter": "python",
   "pygments_lexer": "ipython3",
   "version": "3.8.2"
  }
 },
 "nbformat": 4,
 "nbformat_minor": 5
}
