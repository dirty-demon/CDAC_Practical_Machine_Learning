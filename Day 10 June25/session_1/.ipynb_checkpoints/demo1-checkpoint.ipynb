{
 "cells": [
  {
   "cell_type": "markdown",
   "id": "9e77eef1",
   "metadata": {},
   "source": [
    "### import required packages"
   ]
  },
  {
   "cell_type": "code",
   "execution_count": 1,
   "id": "eb9b3ff2",
   "metadata": {},
   "outputs": [],
   "source": [
    "import numpy as np\n",
    "import pandas as pd\n",
    "import matplotlib.pyplot as plt\n",
    "import seaborn as sns"
   ]
  },
  {
   "cell_type": "markdown",
   "id": "c22278c0",
   "metadata": {},
   "source": [
    "### read the data from source"
   ]
  },
  {
   "cell_type": "code",
   "execution_count": 2,
   "id": "1a8946cf",
   "metadata": {},
   "outputs": [],
   "source": [
    "df = pd.read_csv('Salary_Data.csv')"
   ]
  },
  {
   "cell_type": "code",
   "execution_count": 3,
   "id": "2a59220a",
   "metadata": {},
   "outputs": [
    {
     "name": "stdout",
     "output_type": "stream",
     "text": [
      "   YearsExperience  Salary\n",
      "0              1.1   39343\n",
      "1              1.3   46205\n",
      "2              1.5   37731\n",
      "3              2.0   43525\n",
      "4              2.2   39891\n"
     ]
    }
   ],
   "source": [
    "print(df.head())"
   ]
  },
  {
   "cell_type": "code",
   "execution_count": 4,
   "id": "193d9ba8",
   "metadata": {},
   "outputs": [
    {
     "name": "stdout",
     "output_type": "stream",
     "text": [
      "Index(['YearsExperience', 'Salary'], dtype='object')\n"
     ]
    }
   ],
   "source": [
    "print(df.columns)"
   ]
  },
  {
   "cell_type": "code",
   "execution_count": 5,
   "id": "9b7b3636",
   "metadata": {},
   "outputs": [
    {
     "name": "stdout",
     "output_type": "stream",
     "text": [
      "       YearsExperience         Salary\n",
      "count        33.000000      33.000000\n",
      "mean          5.921212   82760.303030\n",
      "std           3.342413   34014.620992\n",
      "min           1.100000   37731.000000\n",
      "25%           3.200000   56957.000000\n",
      "50%           5.100000   67938.000000\n",
      "75%           8.700000  109431.000000\n",
      "max          13.000000  156000.000000\n"
     ]
    }
   ],
   "source": [
    "print(df.describe())"
   ]
  },
  {
   "cell_type": "code",
   "execution_count": 6,
   "id": "51261c55",
   "metadata": {},
   "outputs": [
    {
     "name": "stdout",
     "output_type": "stream",
     "text": [
      "0.9836422753186338\n"
     ]
    }
   ],
   "source": [
    "# check if salary and experience are related\n",
    "# get the correlation coeffiecient from [0, 1] or [1, 0] position\n",
    "corr = np.corrcoef(df['Salary'], df['YearsExperience'])\n",
    "print(corr[0, 1])"
   ]
  },
  {
   "cell_type": "markdown",
   "id": "f2ceef5a",
   "metadata": {},
   "source": [
    "### exploratory data analysis"
   ]
  },
  {
   "cell_type": "code",
   "execution_count": 7,
   "id": "8c996fce",
   "metadata": {},
   "outputs": [
    {
     "data": {
      "text/plain": [
       "Text(0.5, 1.0, 'Experience vs Salary')"
      ]
     },
     "execution_count": 7,
     "metadata": {},
     "output_type": "execute_result"
    },
    {
     "data": {
      "image/png": "[encoded data removed]",
      "text/plain": [
       "<Figure size 432x288 with 1 Axes>"
      ]
     },
     "metadata": {
      "needs_background": "light"
     },
     "output_type": "display_data"
    }
   ],
   "source": [
    "plt.scatter(df['YearsExperience'], df['Salary'])\n",
    "plt.xlabel('Years of experience')\n",
    "plt.ylabel('Salary')\n",
    "plt.title('Experience vs Salary')"
   ]
  },
  {
   "cell_type": "code",
   "execution_count": 8,
   "id": "81165b42",
   "metadata": {},
   "outputs": [
    {
     "data": {
      "text/plain": [
       "<seaborn.axisgrid.PairGrid at 0x1a4fe7220>"
      ]
     },
     "execution_count": 8,
     "metadata": {},
     "output_type": "execute_result"
    },
    {
     "data": {
      "image/png": "[encoded data removed]",
      "text/plain": [
       "<Figure size 360x360 with 6 Axes>"
      ]
     },
     "metadata": {
      "needs_background": "light"
     },
     "output_type": "display_data"
    }
   ],
   "source": [
    "sns.pairplot(df)"
   ]
  },
  {
   "cell_type": "markdown",
   "id": "c8cd6852",
   "metadata": {},
   "source": [
    "### data cleansing operations"
   ]
  },
  {
   "cell_type": "markdown",
   "id": "8fb15e0b",
   "metadata": {},
   "source": [
    "#### check for NaN"
   ]
  },
  {
   "cell_type": "code",
   "execution_count": 9,
   "id": "39c70fb4",
   "metadata": {},
   "outputs": [
    {
     "name": "stdout",
     "output_type": "stream",
     "text": [
      "YearsExperience    0\n",
      "Salary             0\n",
      "dtype: int64\n"
     ]
    }
   ],
   "source": [
    "# there is no missing value in either of the columns\n",
    "print(df.isna().sum())"
   ]
  },
  {
   "cell_type": "markdown",
   "id": "b279beeb",
   "metadata": {},
   "source": [
    "#### check for wrong data type"
   ]
  },
  {
   "cell_type": "code",
   "execution_count": 10,
   "id": "8aaa67b8",
   "metadata": {},
   "outputs": [
    {
     "name": "stdout",
     "output_type": "stream",
     "text": [
      "<class 'pandas.core.frame.DataFrame'>\n",
      "RangeIndex: 33 entries, 0 to 32\n",
      "Data columns (total 2 columns):\n",
      " #   Column           Non-Null Count  Dtype  \n",
      "---  ------           --------------  -----  \n",
      " 0   YearsExperience  33 non-null     float64\n",
      " 1   Salary           33 non-null     int64  \n",
      "dtypes: float64(1), int64(1)\n",
      "memory usage: 656.0 bytes\n"
     ]
    }
   ],
   "source": [
    "df.info()"
   ]
  },
  {
   "cell_type": "markdown",
   "id": "7126d28d",
   "metadata": {},
   "source": [
    "### decide the input and output features"
   ]
  },
  {
   "cell_type": "code",
   "execution_count": 11,
   "id": "60094232",
   "metadata": {},
   "outputs": [
    {
     "name": "stdout",
     "output_type": "stream",
     "text": [
      "x dim = 2, shape = (33, 1)\n",
      "y dim = 1, shape = (33,)\n"
     ]
    }
   ],
   "source": [
    "# since salary is the dependent variable, removing it from\n",
    "# data source will give us a data set left only with \n",
    "# set of indpendent variables\n",
    "# note: x must be a two dimensional array\n",
    "# - there can be one more more independent variable(s)\n",
    "x = df.drop('Salary', axis=1)\n",
    "print(f\"x dim = {x.ndim}, shape = {x.shape}\")\n",
    "\n",
    "# dependent variable\n",
    "# - thre must be one and only dependent variable\n",
    "y = df['Salary']\n",
    "print(f\"y dim = {y.ndim}, shape = {y.shape}\")"
   ]
  },
  {
   "cell_type": "markdown",
   "id": "3d325cc5",
   "metadata": {},
   "source": [
    "### split the data"
   ]
  },
  {
   "cell_type": "code",
   "execution_count": 12,
   "id": "490d6ad8",
   "metadata": {},
   "outputs": [
    {
     "name": "stdout",
     "output_type": "stream",
     "text": [
      "size of whole data: 33, size of train data = 26, size of test data = 7\n"
     ]
    }
   ],
   "source": [
    "from sklearn.model_selection import train_test_split\n",
    "\n",
    "# get 20% of the whole data into a testing set\n",
    "# get 80% of the whole data into a training set\n",
    "# train_test_split(x, y, test_size=0.2)\n",
    "\n",
    "# get 80% of the whole data into a training set\n",
    "# get 20% of the whole data into a testing set\n",
    "x_train, x_test, y_train, y_test = train_test_split(x, y, train_size=0.8, random_state=12345)\n",
    "\n",
    "print(f\"size of whole data: {len(df['Salary'])}, size of train data = {len(y_train)}, size of test data = {len(y_test)}\")"
   ]
  },
  {
   "cell_type": "markdown",
   "id": "9c4b297d",
   "metadata": {},
   "source": [
    "### prepare a model"
   ]
  },
  {
   "cell_type": "code",
   "execution_count": 13,
   "id": "faa9fcea",
   "metadata": {},
   "outputs": [
    {
     "data": {
      "text/plain": [
       "LinearRegression()"
      ]
     },
     "execution_count": 13,
     "metadata": {},
     "output_type": "execute_result"
    }
   ],
   "source": [
    "from sklearn.linear_model import LinearRegression\n",
    "\n",
    "# create a model\n",
    "model = LinearRegression()\n",
    "\n",
    "# fit the training data into the model\n",
    "# asking model to find the insights/patterns of the data\n",
    "model.fit(x_train, y_train)"
   ]
  },
  {
   "cell_type": "markdown",
   "id": "bf114d36",
   "metadata": {},
   "source": [
    "### evaluate the model"
   ]
  },
  {
   "cell_type": "code",
   "execution_count": 14,
   "id": "856613a8",
   "metadata": {},
   "outputs": [
    {
     "name": "stdout",
     "output_type": "stream",
     "text": [
      "score of the model: <bound method RegressorMixin.score of LinearRegression()>\n"
     ]
    }
   ],
   "source": [
    "print(f\"score of the model: {model.score}\")"
   ]
  },
  {
   "cell_type": "code",
   "execution_count": 16,
   "id": "f327b577",
   "metadata": {},
   "outputs": [
    {
     "name": "stdout",
     "output_type": "stream",
     "text": [
      "MAE = 4207.941326121618\n",
      "MSE = 26018867.269139417\n",
      "RMSE = 5100.869266030979\n"
     ]
    }
   ],
   "source": [
    "from sklearn.metrics import mean_squared_error, mean_absolute_error\n",
    "\n",
    "# predict the salaries of the test data\n",
    "y_predictions = model.predict(x_test)\n",
    "# print(y_predictions)\n",
    "# print(x_test)\n",
    "# print(y_test)\n",
    "\n",
    "MAE = mean_absolute_error(y_test, y_predictions)\n",
    "print(f\"MAE = {MAE}\")\n",
    "\n",
    "MSE = mean_squared_error(y_test, y_predictions)\n",
    "print(f\"MSE = {MSE}\")\n",
    "\n",
    "RMSE = np.sqrt(MSE)\n",
    "print(f\"RMSE = {RMSE}\")"
   ]
  },
  {
   "cell_type": "markdown",
   "id": "dd06ce48",
   "metadata": {},
   "source": [
    "### fine tune the model"
   ]
  },
  {
   "cell_type": "code",
   "execution_count": 17,
   "id": "01bf926a",
   "metadata": {},
   "outputs": [
    {
     "name": "stdout",
     "output_type": "stream",
     "text": [
      "{'copy_X': True, 'fit_intercept': True, 'n_jobs': None, 'normalize': False, 'positive': False}\n"
     ]
    }
   ],
   "source": [
    "print(model.get_params())"
   ]
  },
  {
   "cell_type": "markdown",
   "id": "b95f11fa",
   "metadata": {},
   "source": [
    "### use the model to predict the unseen data"
   ]
  },
  {
   "cell_type": "code",
   "execution_count": 18,
   "id": "606e7db6",
   "metadata": {},
   "outputs": [
    {
     "name": "stdout",
     "output_type": "stream",
     "text": [
      "salary of a person having 14 years of experience = 162857.36151968787\n"
     ]
    }
   ],
   "source": [
    "# find the salary of a person having 14 years of experience \n",
    "salaries = model.predict([[14]])\n",
    "print(f\"salary of a person having 14 years of experience = {salaries[0]}\")"
   ]
  },
  {
   "cell_type": "code",
   "execution_count": 19,
   "id": "df91b9c0",
   "metadata": {},
   "outputs": [
    {
     "name": "stdout",
     "output_type": "stream",
     "text": [
      "salary of a person having 15 years of experience = 172818.44810959423\n"
     ]
    }
   ],
   "source": [
    "# find the salary of a person having 15 years of experience \n",
    "salaries = model.predict([[15]])\n",
    "print(f\"salary of a person having 15 years of experience = {salaries[0]}\")"
   ]
  },
  {
   "cell_type": "code",
   "execution_count": 20,
   "id": "924024fb",
   "metadata": {},
   "outputs": [
    {
     "name": "stdout",
     "output_type": "stream",
     "text": [
      "salary of a person having 13 years of experience = 152896.27492978153\n"
     ]
    }
   ],
   "source": [
    "# find the salary of a person having 14 years of experience \n",
    "salaries = model.predict([[13]])\n",
    "print(f\"salary of a person having 13 years of experience = {salaries[0]}\")"
   ]
  },
  {
   "cell_type": "code",
   "execution_count": null,
   "id": "d55e7ca0",
   "metadata": {},
   "outputs": [],
   "source": []
  }
 ],
 "metadata": {
  "kernelspec": {
   "display_name": "Python 3",
   "language": "python",
   "name": "python3"
  },
  "language_info": {
   "codemirror_mode": {
    "name": "ipython",
    "version": 3
   },
   "file_extension": ".py",
   "mimetype": "text/x-python",
   "name": "python",
   "nbconvert_exporter": "python",
   "pygments_lexer": "ipython3",
   "version": "3.8.2"
  }
 },
 "nbformat": 4,
 "nbformat_minor": 5
}
