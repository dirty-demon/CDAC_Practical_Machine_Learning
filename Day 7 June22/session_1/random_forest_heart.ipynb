{
 "cells": [
  {
   "cell_type": "code",
   "execution_count": 1,
   "id": "a27ccfa7",
   "metadata": {},
   "outputs": [],
   "source": [
    "import numpy as np\n",
    "import pandas as pd\n",
    "import matplotlib.pyplot as plt\n",
    "import seaborn as sns"
   ]
  },
  {
   "cell_type": "code",
   "execution_count": 3,
   "id": "cb10105b",
   "metadata": {},
   "outputs": [
    {
     "name": "stdout",
     "output_type": "stream",
     "text": [
      "   age  sex  cp  trestbps  chol  fbs  restecg  thalach  exang  oldpeak  slope  \\\n",
      "0   63    1   3       145   233    1        0      150      0      2.3      0   \n",
      "1   37    1   2       130   250    0        1      187      0      3.5      0   \n",
      "2   41    0   1       130   204    0        0      172      0      1.4      2   \n",
      "3   56    1   1       120   236    0        1      178      0      0.8      2   \n",
      "4   57    0   0       120   354    0        1      163      1      0.6      2   \n",
      "\n",
      "   ca  thal  target  \n",
      "0   0     1       1  \n",
      "1   0     2       1  \n",
      "2   0     2       1  \n",
      "3   0     2       1  \n",
      "4   0     2       1  \n"
     ]
    }
   ],
   "source": [
    "df = pd.read_csv(\"heart_disease.csv\")\n",
    "print(df.head())"
   ]
  },
  {
   "cell_type": "code",
   "execution_count": 4,
   "id": "daa686d7",
   "metadata": {},
   "outputs": [
    {
     "name": "stdout",
     "output_type": "stream",
     "text": [
      "Index(['age', 'sex', 'cp', 'trestbps', 'chol', 'fbs', 'restecg', 'thalach',\n",
      "       'exang', 'oldpeak', 'slope', 'ca', 'thal', 'target'],\n",
      "      dtype='object')\n"
     ]
    }
   ],
   "source": [
    "print(df.columns)"
   ]
  },
  {
   "cell_type": "code",
   "execution_count": 6,
   "id": "16c52689",
   "metadata": {},
   "outputs": [
    {
     "name": "stdout",
     "output_type": "stream",
     "text": [
      "corr of target and age = -0.22543871587483727\n",
      "corr of target and sex = -0.28093657550176654\n",
      "corr of target and cp = 0.4337982615068933\n",
      "corr of target and trestbps = -0.14493112849775144\n",
      "corr of target and chol = -0.08523910513756902\n",
      "corr of target and fbs = -0.028045760272712827\n",
      "corr of target and restecg = 0.13722950287377336\n",
      "corr of target and thalach = 0.42174093381067435\n",
      "corr of target and exang = -0.4367570833533018\n",
      "corr of target and oldpeak = -0.4306960016873683\n",
      "corr of target and slope = 0.34587707824172526\n",
      "corr of target and ca = -0.3917239923512519\n",
      "corr of target and thal = -0.34402926803830985\n",
      "corr of target and target = 1.0\n"
     ]
    }
   ],
   "source": [
    "for column in df.columns:\n",
    "    corr = np.corrcoef(df['target'], df[column])\n",
    "    print(f\"corr of target and {column} = {corr[0, 1]}\")"
   ]
  },
  {
   "cell_type": "code",
   "execution_count": 8,
   "id": "dcb4119b",
   "metadata": {},
   "outputs": [],
   "source": [
    "# decide the x and y\n",
    "x = df.drop(['age', 'sex', 'trestbps', 'chol', 'fbs', 'restecg', 'target'], axis=1)\n",
    "y = df['target']"
   ]
  },
  {
   "cell_type": "code",
   "execution_count": 10,
   "id": "e7fc7bc8",
   "metadata": {},
   "outputs": [],
   "source": [
    "# split the data into test and train\n",
    "from sklearn.model_selection import train_test_split\n",
    "x_train, x_test, y_train, y_test = train_test_split(x, y, train_size=0.8, random_state=123456)"
   ]
  },
  {
   "cell_type": "code",
   "execution_count": 16,
   "id": "8c8d4647",
   "metadata": {},
   "outputs": [],
   "source": [
    "def evaluate_model(model):\n",
    "    # predict all the x_test values\n",
    "    y_prediction = model.predict(x_test)\n",
    "    \n",
    "    from sklearn.metrics import confusion_matrix, classification_report\n",
    "    cm = confusion_matrix(y_test, y_prediction)\n",
    "    print(cm)\n",
    "    \n",
    "    print(classification_report(y_test, y_prediction))"
   ]
  },
  {
   "cell_type": "code",
   "execution_count": 26,
   "id": "4c605e1c",
   "metadata": {},
   "outputs": [],
   "source": [
    "def random_forest():\n",
    "    # create and train the model\n",
    "\n",
    "    from sklearn.ensemble import RandomForestClassifier\n",
    "    model = RandomForestClassifier(n_estimators=50)\n",
    "\n",
    "    # fit the model with x_train and y_train\n",
    "    model.fit(x_train, y_train)\n",
    "    \n",
    "    evaluate_model(model)"
   ]
  },
  {
   "cell_type": "code",
   "execution_count": 27,
   "id": "5455a943",
   "metadata": {},
   "outputs": [
    {
     "name": "stdout",
     "output_type": "stream",
     "text": [
      "[[20  4]\n",
      " [ 5 32]]\n",
      "              precision    recall  f1-score   support\n",
      "\n",
      "           0       0.80      0.83      0.82        24\n",
      "           1       0.89      0.86      0.88        37\n",
      "\n",
      "    accuracy                           0.85        61\n",
      "   macro avg       0.84      0.85      0.85        61\n",
      "weighted avg       0.85      0.85      0.85        61\n",
      "\n"
     ]
    }
   ],
   "source": [
    "# create and evaluate the model\n",
    "random_forest()"
   ]
  },
  {
   "cell_type": "code",
   "execution_count": 29,
   "id": "2cc31ac0",
   "metadata": {},
   "outputs": [],
   "source": [
    "def decision_tree():\n",
    "    # create and train the model\n",
    "\n",
    "    from sklearn.tree import DecisionTreeClassifier\n",
    "    model = DecisionTreeClassifier()\n",
    "\n",
    "    # fit the model with x_train and y_train\n",
    "    model.fit(x_train, y_train)\n",
    "    \n",
    "    evaluate_model(model)"
   ]
  },
  {
   "cell_type": "code",
   "execution_count": 30,
   "id": "0bf7e98c",
   "metadata": {},
   "outputs": [
    {
     "name": "stdout",
     "output_type": "stream",
     "text": [
      "[[16  8]\n",
      " [10 27]]\n",
      "              precision    recall  f1-score   support\n",
      "\n",
      "           0       0.62      0.67      0.64        24\n",
      "           1       0.77      0.73      0.75        37\n",
      "\n",
      "    accuracy                           0.70        61\n",
      "   macro avg       0.69      0.70      0.70        61\n",
      "weighted avg       0.71      0.70      0.71        61\n",
      "\n"
     ]
    }
   ],
   "source": [
    "# create and evaluate the model\n",
    "decision_tree()"
   ]
  },
  {
   "cell_type": "code",
   "execution_count": null,
   "id": "cf593c77",
   "metadata": {},
   "outputs": [],
   "source": []
  }
 ],
 "metadata": {
  "kernelspec": {
   "display_name": "Python 3",
   "language": "python",
   "name": "python3"
  },
  "language_info": {
   "codemirror_mode": {
    "name": "ipython",
    "version": 3
   },
   "file_extension": ".py",
   "mimetype": "text/x-python",
   "name": "python",
   "nbconvert_exporter": "python",
   "pygments_lexer": "ipython3",
   "version": "3.8.2"
  }
 },
 "nbformat": 4,
 "nbformat_minor": 5
}
