{
 "cells": [
  {
   "cell_type": "code",
   "execution_count": 2,
   "id": "a27ccfa7",
   "metadata": {},
   "outputs": [],
   "source": [
    "import numpy as np\n",
    "import pandas as pd\n",
    "import matplotlib.pyplot as plt\n",
    "import seaborn as sns"
   ]
  },
  {
   "cell_type": "code",
   "execution_count": 6,
   "id": "cb10105b",
   "metadata": {},
   "outputs": [
    {
     "name": "stdout",
     "output_type": "stream",
     "text": [
      "    User ID  Gender  Age  EstimatedSalary  Purchased\n",
      "0  15624510    Male   19            19000          0\n",
      "1  15810944    Male   35            20000          0\n",
      "2  15668575  Female   26            43000          0\n",
      "3  15603246  Female   27            57000          0\n",
      "4  15804002    Male   19            76000          0\n"
     ]
    }
   ],
   "source": [
    "df = pd.read_csv(\"Social_Network_Ads.csv\")\n",
    "print(df.head())"
   ]
  },
  {
   "cell_type": "code",
   "execution_count": 7,
   "id": "dcb4119b",
   "metadata": {},
   "outputs": [],
   "source": [
    "# decide the x and y\n",
    "x = df.drop(['User ID', 'Gender', 'Purchased'], axis=1)\n",
    "y = df['Purchased']"
   ]
  },
  {
   "cell_type": "code",
   "execution_count": 8,
   "id": "e7fc7bc8",
   "metadata": {},
   "outputs": [],
   "source": [
    "# split the data into test and train\n",
    "from sklearn.model_selection import train_test_split\n",
    "x_train, x_test, y_train, y_test = train_test_split(x, y, train_size=0.8, random_state=123456)"
   ]
  },
  {
   "cell_type": "code",
   "execution_count": 9,
   "id": "8c8d4647",
   "metadata": {},
   "outputs": [],
   "source": [
    "def evaluate_model(model):\n",
    "    # predict all the x_test values\n",
    "    y_prediction = model.predict(x_test)\n",
    "    \n",
    "    from sklearn.metrics import confusion_matrix, classification_report\n",
    "    cm = confusion_matrix(y_test, y_prediction)\n",
    "    print(cm)\n",
    "    \n",
    "    print(classification_report(y_test, y_prediction))"
   ]
  },
  {
   "cell_type": "code",
   "execution_count": 10,
   "id": "4c605e1c",
   "metadata": {},
   "outputs": [],
   "source": [
    "def random_forest():\n",
    "    # create and train the model\n",
    "\n",
    "    from sklearn.ensemble import RandomForestClassifier\n",
    "    model = RandomForestClassifier(n_estimators=50)\n",
    "\n",
    "    # fit the model with x_train and y_train\n",
    "    model.fit(x_train, y_train)\n",
    "    \n",
    "    evaluate_model(model)"
   ]
  },
  {
   "cell_type": "code",
   "execution_count": 11,
   "id": "5455a943",
   "metadata": {},
   "outputs": [
    {
     "name": "stdout",
     "output_type": "stream",
     "text": [
      "[[54  2]\n",
      " [ 4 20]]\n",
      "              precision    recall  f1-score   support\n",
      "\n",
      "           0       0.93      0.96      0.95        56\n",
      "           1       0.91      0.83      0.87        24\n",
      "\n",
      "    accuracy                           0.93        80\n",
      "   macro avg       0.92      0.90      0.91        80\n",
      "weighted avg       0.92      0.93      0.92        80\n",
      "\n"
     ]
    }
   ],
   "source": [
    "# create and evaluate the model\n",
    "random_forest()"
   ]
  },
  {
   "cell_type": "code",
   "execution_count": 12,
   "id": "2cc31ac0",
   "metadata": {},
   "outputs": [],
   "source": [
    "def decision_tree():\n",
    "    # create and train the model\n",
    "\n",
    "    from sklearn.tree import DecisionTreeClassifier\n",
    "    model = DecisionTreeClassifier()\n",
    "\n",
    "    # fit the model with x_train and y_train\n",
    "    model.fit(x_train, y_train)\n",
    "    \n",
    "    evaluate_model(model)"
   ]
  },
  {
   "cell_type": "code",
   "execution_count": 13,
   "id": "0bf7e98c",
   "metadata": {},
   "outputs": [
    {
     "name": "stdout",
     "output_type": "stream",
     "text": [
      "[[50  6]\n",
      " [ 8 16]]\n",
      "              precision    recall  f1-score   support\n",
      "\n",
      "           0       0.86      0.89      0.88        56\n",
      "           1       0.73      0.67      0.70        24\n",
      "\n",
      "    accuracy                           0.82        80\n",
      "   macro avg       0.79      0.78      0.79        80\n",
      "weighted avg       0.82      0.82      0.82        80\n",
      "\n"
     ]
    }
   ],
   "source": [
    "# create and evaluate the model\n",
    "decision_tree()"
   ]
  },
  {
   "cell_type": "code",
   "execution_count": null,
   "id": "cf593c77",
   "metadata": {},
   "outputs": [],
   "source": []
  }
 ],
 "metadata": {
  "kernelspec": {
   "display_name": "Python 3",
   "language": "python",
   "name": "python3"
  },
  "language_info": {
   "codemirror_mode": {
    "name": "ipython",
    "version": 3
   },
   "file_extension": ".py",
   "mimetype": "text/x-python",
   "name": "python",
   "nbconvert_exporter": "python",
   "pygments_lexer": "ipython3",
   "version": "3.8.2"
  }
 },
 "nbformat": 4,
 "nbformat_minor": 5
}
