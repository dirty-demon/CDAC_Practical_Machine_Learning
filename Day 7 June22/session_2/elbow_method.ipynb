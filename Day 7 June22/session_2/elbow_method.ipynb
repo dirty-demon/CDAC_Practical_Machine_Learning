{
 "cells": [
  {
   "cell_type": "code",
   "execution_count": 1,
   "id": "e6aeb0d3",
   "metadata": {},
   "outputs": [],
   "source": [
    "import numpy as np\n",
    "import pandas as pd\n",
    "import matplotlib.pyplot as plt\n",
    "import seaborn as sns"
   ]
  },
  {
   "cell_type": "code",
   "execution_count": 2,
   "id": "cfed4084",
   "metadata": {},
   "outputs": [
    {
     "name": "stdout",
     "output_type": "stream",
     "text": [
      "   CustomerID  Gender  Age  Annual Income (k$)  Spending Score (1-100)\n",
      "0           1    Male   19                  15                      39\n",
      "1           2    Male   21                  15                      81\n",
      "2           3  Female   20                  16                       6\n",
      "3           4  Female   23                  16                      77\n",
      "4           5  Female   31                  17                      40\n"
     ]
    }
   ],
   "source": [
    "# read the data\n",
    "df = pd.read_csv('Mall_Customers.csv')\n",
    "print(df.head())"
   ]
  },
  {
   "cell_type": "code",
   "execution_count": 3,
   "id": "67422189",
   "metadata": {},
   "outputs": [
    {
     "name": "stdout",
     "output_type": "stream",
     "text": [
      "   Annual Income (k$)  Spending Score (1-100)\n",
      "0                  15                      39\n",
      "1                  15                      81\n",
      "2                  16                       6\n",
      "3                  16                      77\n",
      "4                  17                      40\n"
     ]
    }
   ],
   "source": [
    "x = df.drop(['CustomerID', 'Gender', 'Age'], axis=1)\n",
    "print(x.head())"
   ]
  },
  {
   "cell_type": "code",
   "execution_count": 15,
   "id": "a7bcabf7",
   "metadata": {},
   "outputs": [
    {
     "name": "stdout",
     "output_type": "stream",
     "text": [
      "[269981.28000000014, 181363.59595959607, 106348.37306211119, 73679.78903948837, 44448.45544793369, 37271.88623658948, 30227.60651315203, 24990.434310396893, 21913.929201194416, 19664.68519600554]\n"
     ]
    }
   ],
   "source": [
    "from sklearn.cluster import KMeans\n",
    "\n",
    "# used to collect the wss values for different values of k\n",
    "wss = []\n",
    "\n",
    "for k in range(1, 11):\n",
    "    # create kmeans object for n_cluster = k\n",
    "    clusters = KMeans(n_clusters=k)\n",
    "    clusters.fit(x)\n",
    "    # collect the wss for every cluster\n",
    "    wss.append(clusters.inertia_)\n",
    "    \n",
    "print(wss)"
   ]
  },
  {
   "cell_type": "code",
   "execution_count": 25,
   "id": "b42c6f8e",
   "metadata": {},
   "outputs": [
    {
     "data": {
      "text/plain": [
       "<matplotlib.legend.Legend at 0x1a31e9220>"
      ]
     },
     "execution_count": 25,
     "metadata": {},
     "output_type": "execute_result"
    },
    {
     "data": {
      "image/png": "[encoded data removed]",
      "text/plain": [
       "<Figure size 432x288 with 1 Axes>"
      ]
     },
     "metadata": {
      "needs_background": "light"
     },
     "output_type": "display_data"
    }
   ],
   "source": [
    "k_values = np.arange(1, 11)\n",
    "plt.plot(k_values, wss, label=\"Elbow line\")\n",
    "plt.scatter(k_values, wss)\n",
    "plt.xlabel('K value')\n",
    "plt.ylabel('WSS')\n",
    "plt.title(\"Elbow Method\")\n",
    "plt.legend()"
   ]
  },
  {
   "cell_type": "code",
   "execution_count": null,
   "id": "e26c8b46",
   "metadata": {},
   "outputs": [],
   "source": []
  }
 ],
 "metadata": {
  "kernelspec": {
   "display_name": "Python 3",
   "language": "python",
   "name": "python3"
  },
  "language_info": {
   "codemirror_mode": {
    "name": "ipython",
    "version": 3
   },
   "file_extension": ".py",
   "mimetype": "text/x-python",
   "name": "python",
   "nbconvert_exporter": "python",
   "pygments_lexer": "ipython3",
   "version": "3.9.2"
  }
 },
 "nbformat": 4,
 "nbformat_minor": 5
}
