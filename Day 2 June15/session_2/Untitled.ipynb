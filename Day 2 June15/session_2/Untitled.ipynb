{
 "cells": [
  {
   "cell_type": "code",
   "execution_count": 1,
   "id": "787a13ea",
   "metadata": {},
   "outputs": [],
   "source": [
    "import numpy as np\n",
    "import pandas as pd\n",
    "import matplotlib.pyplot as plt\n",
    "import seaborn as sns"
   ]
  },
  {
   "cell_type": "code",
   "execution_count": 2,
   "id": "02804e6f",
   "metadata": {},
   "outputs": [
    {
     "name": "stdout",
     "output_type": "stream",
     "text": [
      "      TV  radio  newspaper  sales\n",
      "0  230.1   37.8       69.2   22.1\n",
      "1   44.5   39.3       45.1   10.4\n",
      "2   17.2   45.9       69.3    9.3\n",
      "3  151.5   41.3       58.5   18.5\n",
      "4  180.8   10.8       58.4   12.9\n"
     ]
    }
   ],
   "source": [
    "df = pd.read_csv('Advertising.csv')\n",
    "print(df.head())"
   ]
  },
  {
   "cell_type": "code",
   "execution_count": 7,
   "id": "30cb7941",
   "metadata": {},
   "outputs": [
    {
     "name": "stdout",
     "output_type": "stream",
     "text": [
      "x dim = 2, shape = (200, 2), type = <class 'pandas.core.frame.DataFrame'>\n",
      "        TV  radio\n",
      "0    230.1   37.8\n",
      "1     44.5   39.3\n",
      "2     17.2   45.9\n",
      "3    151.5   41.3\n",
      "4    180.8   10.8\n",
      "..     ...    ...\n",
      "195   38.2    3.7\n",
      "196   94.2    4.9\n",
      "197  177.0    9.3\n",
      "198  283.6   42.0\n",
      "199  232.1    8.6\n",
      "\n",
      "[200 rows x 2 columns]\n",
      "y dim = 1, shape = (200,), type = <class 'pandas.core.series.Series'>\n"
     ]
    }
   ],
   "source": [
    "# independent coluns: 'TV', 'Radio'\n",
    "x = df.drop(['sales', 'newspaper'], axis=1)\n",
    "print(f\"x dim = {x.ndim}, shape = {x.shape}, type = {type(x)}\")\n",
    "print(x)\n",
    "\n",
    "y = df['sales']\n",
    "print(f\"y dim = {y.ndim}, shape = {y.shape}, type = {type(y)}\")"
   ]
  },
  {
   "cell_type": "code",
   "execution_count": 6,
   "id": "4b27d9b8",
   "metadata": {},
   "outputs": [
    {
     "name": "stdout",
     "output_type": "stream",
     "text": [
      "                 TV     radio  newspaper     sales\n",
      "TV         1.000000  0.054809   0.056648  0.782224\n",
      "radio      0.054809  1.000000   0.354104  0.576223\n",
      "newspaper  0.056648  0.354104   1.000000  0.228299\n",
      "sales      0.782224  0.576223   0.228299  1.000000\n"
     ]
    }
   ],
   "source": [
    "corr = df.corr()\n",
    "print(corr)"
   ]
  },
  {
   "cell_type": "code",
   "execution_count": null,
   "id": "1fa0cac8",
   "metadata": {},
   "outputs": [],
   "source": []
  }
 ],
 "metadata": {
  "kernelspec": {
   "display_name": "Python 3",
   "language": "python",
   "name": "python3"
  },
  "language_info": {
   "codemirror_mode": {
    "name": "ipython",
    "version": 3
   },
   "file_extension": ".py",
   "mimetype": "text/x-python",
   "name": "python",
   "nbconvert_exporter": "python",
   "pygments_lexer": "ipython3",
   "version": "3.9.2"
  }
 },
 "nbformat": 4,
 "nbformat_minor": 5
}
