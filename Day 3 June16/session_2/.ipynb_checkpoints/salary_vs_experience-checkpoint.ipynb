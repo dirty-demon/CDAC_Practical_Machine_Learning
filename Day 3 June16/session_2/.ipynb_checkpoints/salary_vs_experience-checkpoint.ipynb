{
 "cells": [
  {
   "cell_type": "markdown",
   "id": "d42b3af3",
   "metadata": {},
   "source": [
    "### import required packages"
   ]
  },
  {
   "cell_type": "code",
   "execution_count": 4,
   "id": "0469525a",
   "metadata": {},
   "outputs": [],
   "source": [
    "import numpy as np\n",
    "import pandas as pd\n",
    "import matplotlib.pyplot as plt\n",
    "import seaborn as sns"
   ]
  },
  {
   "cell_type": "markdown",
   "id": "a07e140f",
   "metadata": {},
   "source": [
    "#### download the data"
   ]
  },
  {
   "cell_type": "code",
   "execution_count": 5,
   "id": "546c1e88",
   "metadata": {},
   "outputs": [
    {
     "name": "stdout",
     "output_type": "stream",
     "text": [
      "   YearsExperience  Salary\n",
      "0              1.1   39343\n",
      "1              1.3   46205\n",
      "2              1.5   37731\n",
      "3              2.0   43525\n",
      "4              2.2   39891\n"
     ]
    }
   ],
   "source": [
    "df = pd.read_csv('Salary_Data.csv')\n",
    "print(df.head())"
   ]
  },
  {
   "cell_type": "markdown",
   "id": "3b5b48d0",
   "metadata": {},
   "source": [
    "#### prepare the data"
   ]
  },
  {
   "cell_type": "code",
   "execution_count": 6,
   "id": "fdd46081",
   "metadata": {},
   "outputs": [],
   "source": [
    "# decide x and y\n",
    "x = df.drop('Salary', axis=1)\n",
    "y = df['Salary']\n",
    "\n",
    "# print(len(y))"
   ]
  },
  {
   "cell_type": "code",
   "execution_count": 7,
   "id": "4bfab721",
   "metadata": {},
   "outputs": [],
   "source": [
    "# split the data into training and testing\n",
    "from sklearn.model_selection import train_test_split\n",
    "\n",
    "# randomly select 80% of the data into train set\n",
    "x_train, x_test, y_train, y_test = train_test_split(x, y, train_size=0.8)\n",
    "# print(len(x_train['YearsExperience']))\n",
    "# print(len(y_train))\n",
    "\n",
    "# print(len(x_test['YearsExperience']))\n",
    "# print(len(y_test))\n",
    "# print(x_train)"
   ]
  },
  {
   "cell_type": "markdown",
   "id": "1b5f0ea0",
   "metadata": {},
   "source": [
    "### train the model"
   ]
  },
  {
   "cell_type": "code",
   "execution_count": 8,
   "id": "a7a3299f",
   "metadata": {},
   "outputs": [
    {
     "data": {
      "text/plain": [
       "LinearRegression()"
      ]
     },
     "execution_count": 8,
     "metadata": {},
     "output_type": "execute_result"
    }
   ],
   "source": [
    "from sklearn.linear_model import LinearRegression\n",
    "\n",
    "# create a model\n",
    "model = LinearRegression()\n",
    "\n",
    "# train the model using train data set\n",
    "model.fit(x_train, y_train)"
   ]
  },
  {
   "cell_type": "markdown",
   "id": "a842baf8",
   "metadata": {},
   "source": [
    "### predict all the test values"
   ]
  },
  {
   "cell_type": "code",
   "execution_count": 11,
   "id": "9b03185d",
   "metadata": {},
   "outputs": [
    {
     "name": "stdout",
     "output_type": "stream",
     "text": [
      "    YearsExperience\n",
      "13              4.1\n",
      "16              5.1\n",
      "20              6.8\n",
      "6               3.0\n",
      "32             13.0\n",
      "0               1.1\n",
      "22              7.9\n",
      "13     57081\n",
      "16     66029\n",
      "20     91738\n",
      "6      60150\n",
      "32    156000\n",
      "0      39343\n",
      "22    101302\n",
      "Name: Salary, dtype: int64\n",
      "[ 64599.81218336  74638.5545104   91704.41646638  53557.19562361\n",
      " 153944.61889406  34483.58520222 102747.03302613]\n"
     ]
    }
   ],
   "source": [
    "# predict the salaries for all the employees in the test data set\n",
    "# y_predictions = y hat\n",
    "y_predictions = model.predict(x_test)\n",
    "print(x_test)\n",
    "print(y_test)\n",
    "print(y_predictions)\n"
   ]
  },
  {
   "cell_type": "markdown",
   "id": "48eecead",
   "metadata": {},
   "source": [
    "#### evaluate the model"
   ]
  },
  {
   "cell_type": "code",
   "execution_count": 12,
   "id": "541b934d",
   "metadata": {},
   "outputs": [
    {
     "name": "stdout",
     "output_type": "stream",
     "text": [
      "MAE = 4444.940504803238\n"
     ]
    }
   ],
   "source": [
    "from sklearn.metrics import mean_absolute_error, mean_squared_error, r2_score\n",
    "\n",
    "MAE = mean_absolute_error(y_test, y_predictions)\n",
    "print(f\"MAE = {MAE}\")"
   ]
  },
  {
   "cell_type": "code",
   "execution_count": 13,
   "id": "5ec24040",
   "metadata": {},
   "outputs": [
    {
     "name": "stdout",
     "output_type": "stream",
     "text": [
      "MSE = 29149969.575630493\n"
     ]
    }
   ],
   "source": [
    "MSE = mean_squared_error(y_test, y_predictions)\n",
    "print(f\"MSE = {MSE}\")"
   ]
  },
  {
   "cell_type": "code",
   "execution_count": 15,
   "id": "88223de4",
   "metadata": {},
   "outputs": [
    {
     "name": "stdout",
     "output_type": "stream",
     "text": [
      "RMSE = 5399.071177122089\n"
     ]
    }
   ],
   "source": [
    "RMSE = np.sqrt(MSE)\n",
    "print(f\"RMSE = {RMSE}\")"
   ]
  },
  {
   "cell_type": "code",
   "execution_count": 16,
   "id": "c80a7b0f",
   "metadata": {},
   "outputs": [
    {
     "name": "stdout",
     "output_type": "stream",
     "text": [
      "R2 = 0.9776155013524018\n"
     ]
    }
   ],
   "source": [
    "R2 = r2_score(y_test, y_predictions)\n",
    "print(f\"R2 = {R2}\")"
   ]
  },
  {
   "cell_type": "code",
   "execution_count": null,
   "id": "bfbe66fa",
   "metadata": {},
   "outputs": [],
   "source": []
  }
 ],
 "metadata": {
  "kernelspec": {
   "display_name": "Python 3",
   "language": "python",
   "name": "python3"
  },
  "language_info": {
   "codemirror_mode": {
    "name": "ipython",
    "version": 3
   },
   "file_extension": ".py",
   "mimetype": "text/x-python",
   "name": "python",
   "nbconvert_exporter": "python",
   "pygments_lexer": "ipython3",
   "version": "3.8.2"
  }
 },
 "nbformat": 4,
 "nbformat_minor": 5
}
