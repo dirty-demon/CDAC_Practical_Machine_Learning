{
 "cells": [
  {
   "cell_type": "markdown",
   "id": "d42b3af3",
   "metadata": {},
   "source": [
    "### import required packages"
   ]
  },
  {
   "cell_type": "code",
   "execution_count": 4,
   "id": "0469525a",
   "metadata": {},
   "outputs": [],
   "source": [
    "import numpy as np\n",
    "import pandas as pd\n",
    "import matplotlib.pyplot as plt\n",
    "import seaborn as sns"
   ]
  },
  {
   "cell_type": "markdown",
   "id": "a07e140f",
   "metadata": {},
   "source": [
    "#### download the data"
   ]
  },
  {
   "cell_type": "code",
   "execution_count": 5,
   "id": "546c1e88",
   "metadata": {},
   "outputs": [
    {
     "name": "stdout",
     "output_type": "stream",
     "text": [
      "   YearsExperience  Salary\n",
      "0              1.1   39343\n",
      "1              1.3   46205\n",
      "2              1.5   37731\n",
      "3              2.0   43525\n",
      "4              2.2   39891\n"
     ]
    }
   ],
   "source": [
    "df = pd.read_csv('Salary_Data.csv')\n",
    "print(df.head())"
   ]
  },
  {
   "cell_type": "markdown",
   "id": "3b5b48d0",
   "metadata": {},
   "source": [
    "#### prepare the data"
   ]
  },
  {
   "cell_type": "code",
   "execution_count": 6,
   "id": "fdd46081",
   "metadata": {},
   "outputs": [],
   "source": [
    "# decide x and y\n",
    "x = df.drop('Salary', axis=1)\n",
    "y = df['Salary']\n",
    "\n",
    "# print(len(y))"
   ]
  },
  {
   "cell_type": "code",
   "execution_count": 17,
   "id": "4bfab721",
   "metadata": {},
   "outputs": [],
   "source": [
    "# split the data into training and testing\n",
    "from sklearn.model_selection import train_test_split\n",
    "\n",
    "# randomly select 80% of the data into train set\n",
    "x_train, x_test, y_train, y_test = train_test_split(x, y, train_size=0.8)\n",
    "# print(len(x_train['YearsExperience']))\n",
    "# print(len(y_train))\n",
    "\n",
    "# print(len(x_test['YearsExperience']))\n",
    "# print(len(y_test))\n",
    "# print(x_train)"
   ]
  },
  {
   "cell_type": "markdown",
   "id": "4a6dcb53",
   "metadata": {},
   "source": [
    "### train the model"
   ]
  },
  {
   "cell_type": "code",
   "execution_count": 18,
   "id": "dad621d8",
   "metadata": {},
   "outputs": [
    {
     "data": {
      "text/plain": [
       "LinearRegression()"
      ]
     },
     "execution_count": 18,
     "metadata": {},
     "output_type": "execute_result"
    }
   ],
   "source": [
    "from sklearn.linear_model import LinearRegression\n",
    "\n",
    "# create a model\n",
    "model = LinearRegression()\n",
    "\n",
    "# train the model using train data set\n",
    "model.fit(x_train, y_train)"
   ]
  },
  {
   "cell_type": "markdown",
   "id": "1371b336",
   "metadata": {},
   "source": [
    "### predict all the test values"
   ]
  },
  {
   "cell_type": "code",
   "execution_count": 19,
   "id": "ce96b432",
   "metadata": {},
   "outputs": [
    {
     "name": "stdout",
     "output_type": "stream",
     "text": [
      "    YearsExperience\n",
      "23              8.2\n",
      "18              5.9\n",
      "20              6.8\n",
      "12              4.0\n",
      "14              4.5\n",
      "32             13.0\n",
      "25              9.0\n",
      "23    113812\n",
      "18     81363\n",
      "20     91738\n",
      "12     56957\n",
      "14     61111\n",
      "32    156000\n",
      "25    105582\n",
      "Name: Salary, dtype: int64\n",
      "[105768.25499798  82986.03608354  91900.81739789  64165.9421977\n",
      "  69118.59848345 153313.75534117 113692.50505518]\n"
     ]
    }
   ],
   "source": [
    "# predict the salaries for all the employees in the test data set\n",
    "# y_predictions = y hat\n",
    "y_predictions = model.predict(x_test)\n",
    "print(x_test)\n",
    "print(y_test)\n",
    "print(y_predictions)\n"
   ]
  },
  {
   "cell_type": "markdown",
   "id": "9c18b94b",
   "metadata": {},
   "source": [
    "#### evaluate the model"
   ]
  },
  {
   "cell_type": "code",
   "execution_count": 20,
   "id": "293f9fc4",
   "metadata": {},
   "outputs": [
    {
     "name": "stdout",
     "output_type": "stream",
     "text": [
      "MAE = 5120.4126969427625\n"
     ]
    }
   ],
   "source": [
    "from sklearn.metrics import mean_absolute_error, mean_squared_error, r2_score\n",
    "\n",
    "MAE = mean_absolute_error(y_test, y_predictions)\n",
    "print(f\"MAE = {MAE}\")"
   ]
  },
  {
   "cell_type": "code",
   "execution_count": 21,
   "id": "cf83e148",
   "metadata": {},
   "outputs": [
    {
     "name": "stdout",
     "output_type": "stream",
     "text": [
      "MSE = 36635610.427145414\n"
     ]
    }
   ],
   "source": [
    "MSE = mean_squared_error(y_test, y_predictions)\n",
    "print(f\"MSE = {MSE}\")"
   ]
  },
  {
   "cell_type": "code",
   "execution_count": 22,
   "id": "689ac8d4",
   "metadata": {},
   "outputs": [
    {
     "name": "stdout",
     "output_type": "stream",
     "text": [
      "RMSE = 6052.735780384389\n"
     ]
    }
   ],
   "source": [
    "RMSE = np.sqrt(MSE)\n",
    "print(f\"RMSE = {RMSE}\")"
   ]
  },
  {
   "cell_type": "code",
   "execution_count": 23,
   "id": "7da596b0",
   "metadata": {},
   "outputs": [
    {
     "name": "stdout",
     "output_type": "stream",
     "text": [
      "R2 = 0.9632534341331433\n"
     ]
    }
   ],
   "source": [
    "R2 = r2_score(y_test, y_predictions)\n",
    "print(f\"R2 = {R2}\")"
   ]
  },
  {
   "cell_type": "code",
   "execution_count": null,
   "id": "046f5b22",
   "metadata": {},
   "outputs": [],
   "source": []
  }
 ],
 "metadata": {
  "kernelspec": {
   "display_name": "Python 3",
   "language": "python",
   "name": "python3"
  },
  "language_info": {
   "codemirror_mode": {
    "name": "ipython",
    "version": 3
   },
   "file_extension": ".py",
   "mimetype": "text/x-python",
   "name": "python",
   "nbconvert_exporter": "python",
   "pygments_lexer": "ipython3",
   "version": "3.9.2"
  }
 },
 "nbformat": 4,
 "nbformat_minor": 5
}
