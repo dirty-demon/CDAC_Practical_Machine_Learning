{
 "cells": [
  {
   "cell_type": "markdown",
   "id": "6bf9a32a",
   "metadata": {},
   "source": [
    "## find the values of y when\n",
    "\n",
    "- x = 10\n",
    "- x = 13\n",
    "- x = 14\n",
    "\n",
    "use machine learning approach\n",
    "\n",
    "where \n",
    "\n",
    "- x = [1, 2, 3, 4, 5, 6, 7, 8, 9, 10]\n",
    "- y = [3, 5, 7, 9, 11, 13, 15, 17, 19, 21]"
   ]
  },
  {
   "cell_type": "code",
   "execution_count": null,
   "id": "2c39a4f0",
   "metadata": {},
   "outputs": [],
   "source": [
    "# "
   ]
  }
 ],
 "metadata": {
  "kernelspec": {
   "display_name": "Python 3",
   "language": "python",
   "name": "python3"
  },
  "language_info": {
   "codemirror_mode": {
    "name": "ipython",
    "version": 3
   },
   "file_extension": ".py",
   "mimetype": "text/x-python",
   "name": "python",
   "nbconvert_exporter": "python",
   "pygments_lexer": "ipython3",
   "version": "3.8.2"
  }
 },
 "nbformat": 4,
 "nbformat_minor": 5
}
