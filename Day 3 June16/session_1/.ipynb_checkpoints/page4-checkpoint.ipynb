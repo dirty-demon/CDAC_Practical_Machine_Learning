{
 "cells": [
  {
   "cell_type": "markdown",
   "id": "c1a43e8c",
   "metadata": {},
   "source": [
    "## requirements\n",
    "\n",
    "find out the salary for an employee having following number of experiences\n",
    "\n",
    "- exp = 14\n",
    "- exp = 14.5\n",
    "- exp = 15\n",
    "- exp = 15.8\n",
    "- exp = 16\n",
    "\n",
    "read the data for building the model from file Salary_Data.csv"
   ]
  },
  {
   "cell_type": "code",
   "execution_count": 1,
   "id": "4fb68f48",
   "metadata": {},
   "outputs": [],
   "source": [
    "# for getting the statistical calculation functions\n",
    "import numpy as np\n",
    "\n",
    "# for loading data from different data sources\n",
    "import pandas as pd\n",
    "\n",
    "# for data visualization\n",
    "import matplotlib.pyplot as plt\n",
    "import seaborn as sns"
   ]
  },
  {
   "cell_type": "markdown",
   "id": "e44e6c0b",
   "metadata": {},
   "source": [
    "#### get the data"
   ]
  },
  {
   "cell_type": "code",
   "execution_count": 2,
   "id": "04ed695d",
   "metadata": {},
   "outputs": [
    {
     "name": "stdout",
     "output_type": "stream",
     "text": [
      "   YearsExperience  Salary\n",
      "0              1.1   39343\n",
      "1              1.3   46205\n",
      "2              1.5   37731\n",
      "3              2.0   43525\n",
      "4              2.2   39891\n"
     ]
    }
   ],
   "source": [
    "df = pd.read_csv('Salary_Data.csv')\n",
    "print(df.head())"
   ]
  },
  {
   "cell_type": "code",
   "execution_count": 3,
   "id": "b4292e53",
   "metadata": {},
   "outputs": [],
   "source": [
    "# decide the x and y\n",
    "# axis = 0 means find the row having index as 'Salary'\n",
    "# axis = 1 means find a column named Salary\n",
    "x = df.drop('Salary', axis=1)\n",
    "\n",
    "# output\n",
    "y = df['Salary']"
   ]
  },
  {
   "cell_type": "markdown",
   "id": "5800c977",
   "metadata": {},
   "source": [
    "#### EDA"
   ]
  },
  {
   "cell_type": "code",
   "execution_count": 5,
   "id": "23281a72",
   "metadata": {},
   "outputs": [
    {
     "data": {
      "text/plain": [
       "Text(0.5, 1.0, 'YearsExperience vs Salary')"
      ]
     },
     "execution_count": 5,
     "metadata": {},
     "output_type": "execute_result"
    },
    {
     "data": {
      "image/png": "[encoded data removed]",
      "text/plain": [
       "<Figure size 432x288 with 1 Axes>"
      ]
     },
     "metadata": {
      "needs_background": "light"
     },
     "output_type": "display_data"
    }
   ],
   "source": [
    "plt.scatter(x['YearsExperience'], y)\n",
    "plt.xlabel('YearsExperience')\n",
    "plt.ylabel('Salary')\n",
    "plt.title('YearsExperience vs Salary')"
   ]
  },
  {
   "cell_type": "markdown",
   "id": "3b7824c0",
   "metadata": {},
   "source": [
    "#### train the model"
   ]
  },
  {
   "cell_type": "code",
   "execution_count": 10,
   "id": "ac8c0502",
   "metadata": {},
   "outputs": [
    {
     "data": {
      "text/plain": [
       "LinearRegression()"
      ]
     },
     "execution_count": 10,
     "metadata": {},
     "output_type": "execute_result"
    }
   ],
   "source": [
    "from sklearn.linear_model import LinearRegression\n",
    "\n",
    "# create a model\n",
    "model = LinearRegression()\n",
    "\n",
    "# trlain the model\n",
    "model.fit(x, y)"
   ]
  },
  {
   "cell_type": "markdown",
   "id": "d8750a47",
   "metadata": {},
   "source": [
    "#### evaluating the model"
   ]
  },
  {
   "cell_type": "markdown",
   "id": "727387a1",
   "metadata": {},
   "source": [
    "- MAE\n",
    "- MSE\n",
    "- RMSE"
   ]
  },
  {
   "cell_type": "markdown",
   "id": "bc792021",
   "metadata": {},
   "source": [
    "#### predictions"
   ]
  },
  {
   "cell_type": "code",
   "execution_count": 11,
   "id": "6797d00f",
   "metadata": {},
   "outputs": [
    {
     "name": "stdout",
     "output_type": "stream",
     "text": [
      "[163630.58143615 168635.68118745 173640.78093875 181648.94054083\n",
      " 183650.98044135]\n"
     ]
    }
   ],
   "source": [
    "salaries = model.predict([[14], [14.5], [15], [15.8], [16]])\n",
    "print(salaries)"
   ]
  },
  {
   "cell_type": "markdown",
   "id": "972ba506",
   "metadata": {},
   "source": [
    "#### equation / formula"
   ]
  },
  {
   "cell_type": "code",
   "execution_count": 13,
   "id": "630f7417",
   "metadata": {},
   "outputs": [
    {
     "name": "stdout",
     "output_type": "stream",
     "text": [
      "[10010.1995026]\n",
      "23487.78839975789\n"
     ]
    }
   ],
   "source": [
    "print(model.coef_)\n",
    "print(model.intercept_)"
   ]
  },
  {
   "cell_type": "code",
   "execution_count": 14,
   "id": "4996c322",
   "metadata": {},
   "outputs": [],
   "source": [
    "def find_salary(exp):\n",
    "    return exp * 10010.1995026 + 23487.78839975789"
   ]
  },
  {
   "cell_type": "code",
   "execution_count": 17,
   "id": "590dc3e5",
   "metadata": {},
   "outputs": [
    {
     "name": "stdout",
     "output_type": "stream",
     "text": [
      "salary for 14 yrs of experience employee = 163630.58143615787\n",
      "salary for 14.5 yrs of experience employee = 168635.68118745787\n",
      "salary for 15 yrs of experience employee = 173640.78093875787\n",
      "salary for 15.8 yrs of experience employee = 181648.94054083788\n",
      "salary for 16 yrs of experience employee = 183650.98044135788\n"
     ]
    }
   ],
   "source": [
    "print(f\"salary for 14 yrs of experience employee = {find_salary(14)}\")\n",
    "print(f\"salary for 14.5 yrs of experience employee = {find_salary(14.5)}\")\n",
    "print(f\"salary for 15 yrs of experience employee = {find_salary(15)}\")\n",
    "print(f\"salary for 15.8 yrs of experience employee = {find_salary(15.8)}\")\n",
    "print(f\"salary for 16 yrs of experience employee = {find_salary(16)}\")"
   ]
  },
  {
   "cell_type": "code",
   "execution_count": null,
   "id": "9b9def88",
   "metadata": {},
   "outputs": [],
   "source": []
  }
 ],
 "metadata": {
  "kernelspec": {
   "display_name": "Python 3",
   "language": "python",
   "name": "python3"
  },
  "language_info": {
   "codemirror_mode": {
    "name": "ipython",
    "version": 3
   },
   "file_extension": ".py",
   "mimetype": "text/x-python",
   "name": "python",
   "nbconvert_exporter": "python",
   "pygments_lexer": "ipython3",
   "version": "3.8.2"
  }
 },
 "nbformat": 4,
 "nbformat_minor": 5
}
