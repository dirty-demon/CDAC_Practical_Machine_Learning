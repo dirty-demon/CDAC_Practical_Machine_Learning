{
 "cells": [
  {
   "cell_type": "markdown",
   "id": "71fbc888",
   "metadata": {},
   "source": [
    "## requirements\n",
    "\n",
    "find out the value of y if \n",
    "- x = 5\n",
    "- x = 6\n",
    "- x = 7\n",
    "\n",
    "find out the value(s) using traditional approach"
   ]
  },
  {
   "cell_type": "code",
   "execution_count": 2,
   "id": "badacde1",
   "metadata": {},
   "outputs": [],
   "source": [
    "# for getting the statistical calculation functions\n",
    "import numpy as np\n",
    "\n",
    "# for loading data from different data sources\n",
    "import pandas as pd\n",
    "\n",
    "# for data visualization\n",
    "import matplotlib.pyplot as plt\n",
    "import seaborn as sns"
   ]
  },
  {
   "cell_type": "code",
   "execution_count": 3,
   "id": "1e213215",
   "metadata": {},
   "outputs": [],
   "source": [
    "# input values\n",
    "x = np.array([\n",
    "    [-1], \n",
    "    [0], \n",
    "    [1], \n",
    "    [2], \n",
    "    [3]\n",
    "])\n",
    "\n",
    "# ouput values / answers\n",
    "y = np.array([0, 1, 2, 3, 4])"
   ]
  },
  {
   "cell_type": "code",
   "execution_count": 4,
   "id": "b7c1420d",
   "metadata": {},
   "outputs": [],
   "source": [
    "def find_y(x):\n",
    "    # formula: y = x + 1\n",
    "    return x + 1"
   ]
  },
  {
   "cell_type": "code",
   "execution_count": 5,
   "id": "925fe7d7",
   "metadata": {},
   "outputs": [
    {
     "name": "stdout",
     "output_type": "stream",
     "text": [
      "value of y when x = 5 is = 6\n"
     ]
    }
   ],
   "source": [
    "print(f\"value of y when x = 5 is = {find_y(5)}\")"
   ]
  },
  {
   "cell_type": "code",
   "execution_count": 6,
   "id": "7bd2d010",
   "metadata": {},
   "outputs": [
    {
     "name": "stdout",
     "output_type": "stream",
     "text": [
      "value of y when x = 6 is = 7\n"
     ]
    }
   ],
   "source": [
    "print(f\"value of y when x = 6 is = {find_y(6)}\")"
   ]
  },
  {
   "cell_type": "code",
   "execution_count": 7,
   "id": "4781270c",
   "metadata": {},
   "outputs": [
    {
     "name": "stdout",
     "output_type": "stream",
     "text": [
      "value of y when x = 7 is = 8\n"
     ]
    }
   ],
   "source": [
    "print(f\"value of y when x = 7 is = {find_y(7)}\")"
   ]
  },
  {
   "cell_type": "code",
   "execution_count": null,
   "id": "cb1aba3c",
   "metadata": {},
   "outputs": [],
   "source": []
  }
 ],
 "metadata": {
  "kernelspec": {
   "display_name": "Python 3",
   "language": "python",
   "name": "python3"
  },
  "language_info": {
   "codemirror_mode": {
    "name": "ipython",
    "version": 3
   },
   "file_extension": ".py",
   "mimetype": "text/x-python",
   "name": "python",
   "nbconvert_exporter": "python",
   "pygments_lexer": "ipython3",
   "version": "3.8.2"
  }
 },
 "nbformat": 4,
 "nbformat_minor": 5
}
