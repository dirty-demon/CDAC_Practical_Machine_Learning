{
 "cells": [
  {
   "cell_type": "markdown",
   "id": "2ae570c7",
   "metadata": {},
   "source": [
    "## requirements\n",
    "\n",
    "find out the value of y if \n",
    "- x = 5\n",
    "- x = 6\n",
    "- x = 7\n",
    "\n",
    "\n",
    "find out the value(s) using machine learning approach (estimate the formula)"
   ]
  },
  {
   "cell_type": "markdown",
   "id": "4f5bd7ae",
   "metadata": {},
   "source": [
    "### import the required packages"
   ]
  },
  {
   "cell_type": "code",
   "execution_count": 40,
   "id": "00e57273",
   "metadata": {},
   "outputs": [],
   "source": [
    "# for getting the statistical calculation functions\n",
    "import numpy as np\n",
    "\n",
    "# for loading data from different data sources\n",
    "import pandas as pd\n",
    "\n",
    "# for data visualization\n",
    "import matplotlib.pyplot as plt\n",
    "import seaborn as sns"
   ]
  },
  {
   "cell_type": "markdown",
   "id": "4a12c21c",
   "metadata": {},
   "source": [
    "\n",
    "### load the data"
   ]
  },
  {
   "cell_type": "code",
   "execution_count": 25,
   "id": "87e6a49f",
   "metadata": {},
   "outputs": [],
   "source": [
    "# input values\n",
    "x = np.array([\n",
    "    [-1], \n",
    "    [0], \n",
    "    [1], \n",
    "    [2], \n",
    "    [3]\n",
    "])\n",
    "\n",
    "# ouput values / answers\n",
    "y = np.array([0, 1, 2, 3, 4])"
   ]
  },
  {
   "cell_type": "markdown",
   "id": "214b98de",
   "metadata": {},
   "source": [
    "### EDA (exploratory data analysis)"
   ]
  },
  {
   "cell_type": "code",
   "execution_count": 39,
   "id": "616913ea",
   "metadata": {},
   "outputs": [
    {
     "data": {
      "text/plain": [
       "Text(0.5, 1.0, 'x vs y')"
      ]
     },
     "execution_count": 39,
     "metadata": {},
     "output_type": "execute_result"
    },
    {
     "data": {
      "image/png": "[encoded data removed]",
      "text/plain": [
       "<Figure size 432x288 with 1 Axes>"
      ]
     },
     "metadata": {
      "needs_background": "light"
     },
     "output_type": "display_data"
    }
   ],
   "source": [
    "plt.scatter(x, y)\n",
    "plt.plot(x, y)\n",
    "plt.xlabel('x')\n",
    "plt.ylabel('y')\n",
    "plt.title('x vs y')"
   ]
  },
  {
   "cell_type": "code",
   "execution_count": 38,
   "id": "ab6c55ca",
   "metadata": {},
   "outputs": [],
   "source": [
    "# find the covariance\n",
    "\n",
    "# [0, 0]: cov(x, x)\n",
    "# [0, 1]: cov(x, y)\n",
    "# [1, 0]: cov(y, x)\n",
    "# [1, 1]: cov(y, y)\n",
    "# cov = np.cov(x[0], y)\n",
    "# print(f\"covariance between x and y = {cov[0, 1]}\")"
   ]
  },
  {
   "cell_type": "code",
   "execution_count": 37,
   "id": "867909d4",
   "metadata": {},
   "outputs": [],
   "source": [
    "# [0, 0]: corr(x, x)\n",
    "# [0, 1]: corr(x, y)\n",
    "# [1, 0]: corr(y, x)\n",
    "# [1, 1]: corr(y, y)\n",
    "# corr = np.corrcoef(x[0], y)\n",
    "# print(f\"correlation between x and y = {corr[0, 1]}\")"
   ]
  },
  {
   "cell_type": "markdown",
   "id": "cc04c9db",
   "metadata": {},
   "source": [
    "#### train a model\n",
    "\n",
    "create a model and fit the data inside the model"
   ]
  },
  {
   "cell_type": "code",
   "execution_count": 27,
   "id": "13b1a41b",
   "metadata": {},
   "outputs": [
    {
     "data": {
      "text/plain": [
       "LinearRegression()"
      ]
     },
     "execution_count": 27,
     "metadata": {},
     "output_type": "execute_result"
    }
   ],
   "source": [
    "# import the LinearRegression\n",
    "from sklearn.linear_model import LinearRegression\n",
    "# help(LinearRegression)\n",
    "\n",
    "# create an empty model\n",
    "# does not know anything about the input and output\n",
    "model = LinearRegression()\n",
    "\n",
    "# train the model\n",
    "# learn the pattern/formula by using input and output values\n",
    "# estimates the formula to calculate y from x value(s)\n",
    "model.fit(x, y)"
   ]
  },
  {
   "cell_type": "markdown",
   "id": "6b37cc46",
   "metadata": {},
   "source": [
    "### evaluate the model"
   ]
  },
  {
   "cell_type": "markdown",
   "id": "57ab9642",
   "metadata": {},
   "source": [
    "estimated equation can be \n",
    "\n",
    "- y = mx + c\n",
    "- y = (model.coef_[0]) * x + (model.intercept_)\n",
    "- y = 1*x + 1"
   ]
  },
  {
   "cell_type": "code",
   "execution_count": 41,
   "id": "8cc99719",
   "metadata": {},
   "outputs": [
    {
     "name": "stdout",
     "output_type": "stream",
     "text": [
      "[1.]\n"
     ]
    }
   ],
   "source": [
    "print(model.coef_)"
   ]
  },
  {
   "cell_type": "code",
   "execution_count": 42,
   "id": "b020d0be",
   "metadata": {},
   "outputs": [
    {
     "name": "stdout",
     "output_type": "stream",
     "text": [
      "1.0\n"
     ]
    }
   ],
   "source": [
    "print(model.intercept_)"
   ]
  },
  {
   "cell_type": "markdown",
   "id": "b1063155",
   "metadata": {},
   "source": [
    "#### predict the values"
   ]
  },
  {
   "cell_type": "code",
   "execution_count": 28,
   "id": "0c3b8ab6",
   "metadata": {},
   "outputs": [
    {
     "name": "stdout",
     "output_type": "stream",
     "text": [
      "[6.]\n"
     ]
    }
   ],
   "source": [
    "# use the model/formula to predict the values\n",
    "values = model.predict([[5]])\n",
    "print(values)"
   ]
  },
  {
   "cell_type": "code",
   "execution_count": 29,
   "id": "68142f28",
   "metadata": {},
   "outputs": [
    {
     "name": "stdout",
     "output_type": "stream",
     "text": [
      "[7.]\n"
     ]
    }
   ],
   "source": [
    "# use the model/formula to predict the values\n",
    "values = model.predict([[6]])\n",
    "print(values)"
   ]
  },
  {
   "cell_type": "code",
   "execution_count": 30,
   "id": "abe3e0e9",
   "metadata": {},
   "outputs": [
    {
     "name": "stdout",
     "output_type": "stream",
     "text": [
      "[8.]\n"
     ]
    }
   ],
   "source": [
    "# use the model/formula to predict the values\n",
    "values = model.predict([[7]])\n",
    "print(values)"
   ]
  },
  {
   "cell_type": "code",
   "execution_count": 31,
   "id": "dcbbf82f",
   "metadata": {},
   "outputs": [
    {
     "name": "stdout",
     "output_type": "stream",
     "text": [
      "[6. 7. 8.]\n"
     ]
    }
   ],
   "source": [
    "# use the model/formula to predict the values\n",
    "values = model.predict([[5], [6], [7]])\n",
    "print(values)"
   ]
  },
  {
   "cell_type": "code",
   "execution_count": null,
   "id": "afb9741a",
   "metadata": {},
   "outputs": [],
   "source": []
  }
 ],
 "metadata": {
  "kernelspec": {
   "display_name": "Python 3",
   "language": "python",
   "name": "python3"
  },
  "language_info": {
   "codemirror_mode": {
    "name": "ipython",
    "version": 3
   },
   "file_extension": ".py",
   "mimetype": "text/x-python",
   "name": "python",
   "nbconvert_exporter": "python",
   "pygments_lexer": "ipython3",
   "version": "3.9.2"
  }
 },
 "nbformat": 4,
 "nbformat_minor": 5
}
