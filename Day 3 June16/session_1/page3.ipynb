{
 "cells": [
  {
   "cell_type": "markdown",
   "id": "8d8b7d49",
   "metadata": {},
   "source": [
    "## find the values of y when\n",
    "\n",
    "- x = 10\n",
    "- x = 13\n",
    "- x = 14\n",
    "\n",
    "use machine learning approach\n",
    "\n",
    "where \n",
    "\n",
    "- x = [1, 2, 3, 4, 5, 6, 7, 8, 9, 10]\n",
    "- y = [3, 5, 7, 9, 11, 13, 15, 17, 19, 21]"
   ]
  },
  {
   "cell_type": "code",
   "execution_count": 2,
   "id": "29a84035",
   "metadata": {},
   "outputs": [],
   "source": [
    "# for getting the statistical calculation functions\n",
    "import numpy as np\n",
    "\n",
    "# for loading data from different data sources\n",
    "import pandas as pd\n",
    "\n",
    "# for data visualization\n",
    "import matplotlib.pyplot as plt\n",
    "import seaborn as sns"
   ]
  },
  {
   "cell_type": "code",
   "execution_count": 4,
   "id": "8a2b1ba9",
   "metadata": {},
   "outputs": [],
   "source": [
    "# get the data from data.csv file\n",
    "df = pd.read_csv('data.csv')"
   ]
  },
  {
   "cell_type": "code",
   "execution_count": 5,
   "id": "3c8736e3",
   "metadata": {},
   "outputs": [
    {
     "name": "stdout",
     "output_type": "stream",
     "text": [
      "Index(['x', 'y'], dtype='object')\n"
     ]
    }
   ],
   "source": [
    "print(df.columns)"
   ]
  },
  {
   "cell_type": "code",
   "execution_count": 6,
   "id": "70a8357c",
   "metadata": {},
   "outputs": [],
   "source": [
    "# get the x in the two dimensional array by dropping y column\n",
    "x = df.drop('y', axis=1)\n",
    "\n",
    "# get the y\n",
    "y = df['y']"
   ]
  },
  {
   "cell_type": "code",
   "execution_count": 7,
   "id": "7fe26f6c",
   "metadata": {},
   "outputs": [
    {
     "data": {
      "text/plain": [
       "LinearRegression()"
      ]
     },
     "execution_count": 7,
     "metadata": {},
     "output_type": "execute_result"
    }
   ],
   "source": [
    "from sklearn.linear_model import LinearRegression\n",
    "\n",
    "model = LinearRegression()\n",
    "model.fit(x, y)"
   ]
  },
  {
   "cell_type": "markdown",
   "id": "68c026af",
   "metadata": {},
   "source": [
    "### predictions"
   ]
  },
  {
   "cell_type": "code",
   "execution_count": 9,
   "id": "06435534",
   "metadata": {},
   "outputs": [
    {
     "name": "stdout",
     "output_type": "stream",
     "text": [
      "[21. 27. 29.]\n"
     ]
    }
   ],
   "source": [
    "predictions = model.predict([[10], [13], [14]])\n",
    "print(predictions)"
   ]
  },
  {
   "cell_type": "code",
   "execution_count": null,
   "id": "5109485c",
   "metadata": {},
   "outputs": [],
   "source": []
  }
 ],
 "metadata": {
  "kernelspec": {
   "display_name": "Python 3",
   "language": "python",
   "name": "python3"
  },
  "language_info": {
   "codemirror_mode": {
    "name": "ipython",
    "version": 3
   },
   "file_extension": ".py",
   "mimetype": "text/x-python",
   "name": "python",
   "nbconvert_exporter": "python",
   "pygments_lexer": "ipython3",
   "version": "3.9.2"
  }
 },
 "nbformat": 4,
 "nbformat_minor": 5
}
