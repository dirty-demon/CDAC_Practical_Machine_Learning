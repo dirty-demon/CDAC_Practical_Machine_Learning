{
 "cells": [
  {
   "cell_type": "code",
   "execution_count": 2,
   "id": "f958984d",
   "metadata": {},
   "outputs": [],
   "source": [
    "news = \"\"\"The government on Sunday said that Covid vaccination of children in the 12-18 age group may start by the end of July or in August. \"Trial for Zydus Cadila vaccine is almost complete. By July end or in August, we might be able to start administering this vaccine to children of 12-18 age group,\" said Dr N K Arora, chairman of the Covid-19 working group of the National Technical Advisory Group on Immunisation (NTAGI)\"\"\""
   ]
  },
  {
   "cell_type": "markdown",
   "id": "f6206d6b",
   "metadata": {},
   "source": [
    "### setence segmentations"
   ]
  },
  {
   "cell_type": "code",
   "execution_count": 3,
   "id": "f736e81e",
   "metadata": {},
   "outputs": [
    {
     "name": "stdout",
     "output_type": "stream",
     "text": [
      "number of sentences: 3\n",
      "The government on Sunday said that Covid vaccination of children in the 12-18 age group may start by the end of July or in August.\n",
      "\"Trial for Zydus Cadila vaccine is almost complete.\n",
      "By July end or in August, we might be able to start administering this vaccine to children of 12-18 age group,\" said Dr N K Arora, chairman of the Covid-19 working group of the National Technical Advisory Group on Immunisation (NTAGI)\n"
     ]
    }
   ],
   "source": [
    "from nltk.tokenize import sent_tokenize\n",
    "\n",
    "sentences = sent_tokenize(news)\n",
    "\n",
    "print(f\"number of sentences: {len(sentences)}\")\n",
    "for sentence in sentences:\n",
    "    print(sentence)"
   ]
  },
  {
   "cell_type": "markdown",
   "id": "ab85d2ff",
   "metadata": {},
   "source": [
    "### tokenization"
   ]
  },
  {
   "cell_type": "code",
   "execution_count": 4,
   "id": "33ed9575",
   "metadata": {},
   "outputs": [
    {
     "name": "stdout",
     "output_type": "stream",
     "text": [
      "['The', 'government', 'on', 'Sunday', 'said', 'that', 'Covid', 'vaccination', 'of', 'children', 'in', 'the', '12-18', 'age', 'group', 'may', 'start', 'by', 'the', 'end', 'of', 'July', 'or', 'in', 'August', '.', '``', 'Trial', 'for', 'Zydus', 'Cadila', 'vaccine', 'is', 'almost', 'complete', '.', 'By', 'July', 'end', 'or', 'in', 'August', ',', 'we', 'might', 'be', 'able', 'to', 'start', 'administering', 'this', 'vaccine', 'to', 'children', 'of', '12-18', 'age', 'group', ',', \"''\", 'said', 'Dr', 'N', 'K', 'Arora', ',', 'chairman', 'of', 'the', 'Covid-19', 'working', 'group', 'of', 'the', 'National', 'Technical', 'Advisory', 'Group', 'on', 'Immunisation', '(', 'NTAGI', ')']\n",
      "83\n"
     ]
    }
   ],
   "source": [
    "from nltk.tokenize import word_tokenize\n",
    "\n",
    "words = []\n",
    "for sentence in sentences:\n",
    "    sentence_words = word_tokenize(sentence)\n",
    "    words.extend(sentence_words)\n",
    "    \n",
    "print(words)\n",
    "print(len(words))"
   ]
  },
  {
   "cell_type": "markdown",
   "id": "249d4778",
   "metadata": {},
   "source": [
    "### filter the stopping words"
   ]
  },
  {
   "cell_type": "code",
   "execution_count": 5,
   "id": "2347e311",
   "metadata": {},
   "outputs": [
    {
     "name": "stdout",
     "output_type": "stream",
     "text": [
      "['government', 'Sunday', 'said', 'Covid', 'vaccination', 'children', 'the', '12-18', 'age', 'group', 'may', 'start', 'the', 'end', 'July', 'in', 'August', '.', '``', 'Trial', 'Zydus', 'Cadila', 'vaccine', 'almost', 'complete', '.', 'July', 'end', 'in', 'August', ',', 'might', 'able', 'start', 'administering', 'vaccine', 'children', '12-18', 'age', 'group', ',', \"''\", 'said', 'Dr', 'N', 'K', 'Arora', ',', 'chairman', 'the', 'Covid-19', 'working', 'group', 'the', 'National', 'Technical', 'Advisory', 'Group', 'Immunisation', '(', 'NTAGI', ')']\n",
      "62\n"
     ]
    }
   ],
   "source": [
    "from nltk.corpus import stopwords\n",
    "\n",
    "# list of stop / unwanted words \n",
    "stop_words = stopwords.words('english')\n",
    "# print(stop_words)\n",
    "\n",
    "# remove the stop words\n",
    "for word in words:\n",
    "    if word.lower() in stop_words:\n",
    "        words.remove(word)\n",
    "print(words)\n",
    "print(len(words))"
   ]
  },
  {
   "cell_type": "code",
   "execution_count": 6,
   "id": "0b5a594a",
   "metadata": {},
   "outputs": [
    {
     "name": "stdout",
     "output_type": "stream",
     "text": [
      "['government', 'Sunday', 'said', 'Covid', 'vaccination', 'children', '12-18', 'age', 'group', 'may', 'start', 'end', 'July', 'August', '.', '``', 'Trial', 'Zydus', 'Cadila', 'vaccine', 'almost', 'complete', '.', 'July', 'end', 'August', ',', 'might', 'able', 'start', 'administering', 'vaccine', 'children', '12-18', 'age', 'group', ',', \"''\", 'said', 'Dr', 'N', 'K', 'Arora', ',', 'chairman', 'Covid-19', 'working', 'group', 'National', 'Technical', 'Advisory', 'Group', 'Immunisation', '(', 'NTAGI', ')']\n",
      "56\n"
     ]
    }
   ],
   "source": [
    "words = [w for w in words if w.lower() not in stop_words]\n",
    "print(words)\n",
    "print(len(words))"
   ]
  },
  {
   "cell_type": "code",
   "execution_count": 7,
   "id": "6300f61f",
   "metadata": {},
   "outputs": [
    {
     "name": "stdout",
     "output_type": "stream",
     "text": [
      "Counter({'group': 3, ',': 3, 'said': 2, 'children': 2, '12-18': 2, 'age': 2, 'start': 2, 'end': 2, 'July': 2, 'August': 2, '.': 2, 'vaccine': 2, 'government': 1, 'Sunday': 1, 'Covid': 1, 'vaccination': 1, 'may': 1, '``': 1, 'Trial': 1, 'Zydus': 1, 'Cadila': 1, 'almost': 1, 'complete': 1, 'might': 1, 'able': 1, 'administering': 1, \"''\": 1, 'Dr': 1, 'N': 1, 'K': 1, 'Arora': 1, 'chairman': 1, 'Covid-19': 1, 'working': 1, 'National': 1, 'Technical': 1, 'Advisory': 1, 'Group': 1, 'Immunisation': 1, '(': 1, 'NTAGI': 1, ')': 1})\n"
     ]
    }
   ],
   "source": [
    "import collections\n",
    "\n",
    "word_count = collections.Counter(words)\n",
    "print(word_count)"
   ]
  },
  {
   "cell_type": "code",
   "execution_count": 8,
   "id": "4556155b",
   "metadata": {},
   "outputs": [
    {
     "name": "stdout",
     "output_type": "stream",
     "text": [
      "[('group', 3), (',', 3), ('said', 2), ('children', 2), ('12-18', 2), ('age', 2), ('start', 2), ('end', 2), ('July', 2), ('August', 2), ('.', 2), ('vaccine', 2), ('government', 1), ('Sunday', 1), ('Covid', 1), ('vaccination', 1), ('may', 1), ('``', 1), ('Trial', 1), ('Zydus', 1), ('Cadila', 1), ('almost', 1), ('complete', 1), ('might', 1), ('able', 1), ('administering', 1), (\"''\", 1), ('Dr', 1), ('N', 1), ('K', 1), ('Arora', 1), ('chairman', 1), ('Covid-19', 1), ('working', 1), ('National', 1), ('Technical', 1), ('Advisory', 1), ('Group', 1), ('Immunisation', 1), ('(', 1), ('NTAGI', 1), (')', 1)]\n"
     ]
    }
   ],
   "source": [
    "print(word_count.most_common())"
   ]
  },
  {
   "cell_type": "markdown",
   "id": "4abdd9aa",
   "metadata": {},
   "source": [
    "### Stemming"
   ]
  },
  {
   "cell_type": "code",
   "execution_count": 35,
   "id": "a158ac07",
   "metadata": {},
   "outputs": [],
   "source": [
    "from nltk.stem import PorterStemmer, WordNetLemmatizer\n",
    "\n",
    "word1 = 'play'\n",
    "word2 = 'played'\n",
    "word3 = 'playing'\n",
    "\n",
    "word4 = \"apple\"\n",
    "word5 = \"apples\""
   ]
  },
  {
   "cell_type": "code",
   "execution_count": 36,
   "id": "80463978",
   "metadata": {},
   "outputs": [
    {
     "name": "stdout",
     "output_type": "stream",
     "text": [
      "stemming play : play\n",
      "stemming played : play\n",
      "stemming playing : play\n",
      "stemming apple : appl\n",
      "stemming apples : appl\n"
     ]
    }
   ],
   "source": [
    "# stem the words\n",
    "stemmer = PorterStemmer()\n",
    "\n",
    "print(f\"stemming {word1} : {stemmer.stem(word1)}\")\n",
    "print(f\"stemming {word2} : {stemmer.stem(word2)}\")\n",
    "print(f\"stemming {word3} : {stemmer.stem(word3)}\")\n",
    "print(f\"stemming {word4} : {stemmer.stem(word4)}\")\n",
    "print(f\"stemming {word5} : {stemmer.stem(word5)}\")"
   ]
  },
  {
   "cell_type": "markdown",
   "id": "e735dfe9",
   "metadata": {},
   "source": [
    "### Lemmatization"
   ]
  },
  {
   "cell_type": "code",
   "execution_count": 42,
   "id": "9a7c2beb",
   "metadata": {},
   "outputs": [
    {
     "name": "stdout",
     "output_type": "stream",
     "text": [
      "lemmatizing play : play\n",
      "lemmatizing played : play\n",
      "lemmatizing playing : play\n",
      "lemmatizing apple : apple\n",
      "lemmatizing apples : apple\n"
     ]
    }
   ],
   "source": [
    "from nltk.corpus import wordnet\n",
    "\n",
    "# stem the words\n",
    "lemmatizer = WordNetLemmatizer()\n",
    "\n",
    "lemmatizer.lemmatize(word1, pos=\"v\")\n",
    "print(f\"lemmatizing {word1} : {lemmatizer.lemmatize(word1, pos=wordnet.VERB)}\")\n",
    "print(f\"lemmatizing {word2} : {lemmatizer.lemmatize(word2, pos=wordnet.VERB)}\")\n",
    "print(f\"lemmatizing {word3} : {lemmatizer.lemmatize(word3, pos=wordnet.VERB)}\")\n",
    "print(f\"lemmatizing {word4} : {lemmatizer.lemmatize(word4)}\")\n",
    "print(f\"lemmatizing {word5} : {lemmatizer.lemmatize(word5)}\")"
   ]
  },
  {
   "cell_type": "markdown",
   "id": "30964eae",
   "metadata": {},
   "source": [
    "### part of the speech tagging"
   ]
  },
  {
   "cell_type": "code",
   "execution_count": 45,
   "id": "3245fc27",
   "metadata": {},
   "outputs": [
    {
     "name": "stdout",
     "output_type": "stream",
     "text": [
      "The = DT\n",
      "government = NN\n",
      "on = IN\n",
      "Sunday = NNP\n",
      "said = VBD\n",
      "that = IN\n",
      "Covid = NNP\n",
      "vaccination = NN\n",
      "of = IN\n",
      "children = NNS\n",
      "in = IN\n",
      "the = DT\n",
      "12-18 = JJ\n",
      "age = NN\n",
      "group = NN\n",
      "may = MD\n",
      "start = VB\n",
      "by = IN\n",
      "the = DT\n",
      "end = NN\n",
      "of = IN\n",
      "July = NNP\n",
      "or = CC\n",
      "in = IN\n",
      "August = NNP\n",
      ". = .\n",
      "`` = ``\n",
      "Trial = JJ\n",
      "for = IN\n",
      "Zydus = NNP\n",
      "Cadila = NNP\n",
      "vaccine = NN\n",
      "is = VBZ\n",
      "almost = RB\n",
      "complete = JJ\n",
      ". = .\n",
      "By = IN\n",
      "July = NNP\n",
      "end = NN\n",
      "or = CC\n",
      "in = IN\n",
      "August = NNP\n",
      ", = ,\n",
      "we = PRP\n",
      "might = MD\n",
      "be = VB\n",
      "able = JJ\n",
      "to = TO\n",
      "start = VB\n",
      "administering = VBG\n",
      "this = DT\n",
      "vaccine = NN\n",
      "to = TO\n",
      "children = NNS\n",
      "of = IN\n",
      "12-18 = JJ\n",
      "age = NN\n",
      "group = NN\n",
      ", = ,\n",
      "'' = ''\n",
      "said = VBD\n",
      "Dr = NNP\n",
      "N = NNP\n",
      "K = NNP\n",
      "Arora = NNP\n",
      ", = ,\n",
      "chairman = NN\n",
      "of = IN\n",
      "the = DT\n",
      "Covid-19 = NNP\n",
      "working = VBG\n",
      "group = NN\n",
      "of = IN\n",
      "the = DT\n",
      "National = NNP\n",
      "Technical = NNP\n",
      "Advisory = NNP\n",
      "Group = NNP\n",
      "on = IN\n",
      "Immunisation = NNP\n",
      "( = (\n",
      "NTAGI = NNP\n",
      ") = )\n"
     ]
    }
   ],
   "source": [
    "from nltk import pos_tag\n",
    "\n",
    "for meaning in pos_tag(words):\n",
    "    print(f\"{meaning[0]} = {meaning[1]}\")"
   ]
  },
  {
   "cell_type": "code",
   "execution_count": null,
   "id": "50a758a4",
   "metadata": {},
   "outputs": [],
   "source": []
  }
 ],
 "metadata": {
  "kernelspec": {
   "display_name": "Python 3",
   "language": "python",
   "name": "python3"
  },
  "language_info": {
   "codemirror_mode": {
    "name": "ipython",
    "version": 3
   },
   "file_extension": ".py",
   "mimetype": "text/x-python",
   "name": "python",
   "nbconvert_exporter": "python",
   "pygments_lexer": "ipython3",
   "version": "3.8.2"
  }
 },
 "nbformat": 4,
 "nbformat_minor": 5
}
