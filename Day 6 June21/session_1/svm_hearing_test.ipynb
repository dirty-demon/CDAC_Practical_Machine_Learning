{
 "cells": [
  {
   "cell_type": "code",
   "execution_count": 1,
   "id": "4fd9e282",
   "metadata": {},
   "outputs": [],
   "source": [
    "import numpy as np\n",
    "import pandas as pd\n",
    "import matplotlib.pyplot as plt\n",
    "import seaborn as sns"
   ]
  },
  {
   "cell_type": "code",
   "execution_count": 2,
   "id": "c627f52d",
   "metadata": {},
   "outputs": [
    {
     "name": "stdout",
     "output_type": "stream",
     "text": [
      "    age  physical_score  test_result\n",
      "0  33.0            40.7            1\n",
      "1  50.0            37.2            1\n",
      "2  52.0            24.7            0\n",
      "3  56.0            31.0            0\n",
      "4  35.0            42.9            1\n"
     ]
    }
   ],
   "source": [
    "df = pd.read_csv('hearing_test.csv')\n",
    "print(df.head())"
   ]
  },
  {
   "cell_type": "code",
   "execution_count": 3,
   "id": "e5024594",
   "metadata": {},
   "outputs": [],
   "source": [
    "# decide the x and y\n",
    "x = df.drop(['test_result'], axis=1)\n",
    "y = df['test_result']"
   ]
  },
  {
   "cell_type": "code",
   "execution_count": 4,
   "id": "a05500e4",
   "metadata": {},
   "outputs": [],
   "source": [
    "# split the data into train and test datasets\n",
    "from sklearn.model_selection import train_test_split\n",
    "\n",
    "x_train, x_test, y_train, y_test = train_test_split(x, y, train_size=0.8, random_state=123456)"
   ]
  },
  {
   "cell_type": "markdown",
   "id": "2e593f77",
   "metadata": {},
   "source": [
    "#### SVM model"
   ]
  },
  {
   "cell_type": "code",
   "execution_count": 5,
   "id": "80da36e7",
   "metadata": {},
   "outputs": [
    {
     "data": {
      "text/plain": [
       "SVC(C=2.0)"
      ]
     },
     "execution_count": 5,
     "metadata": {},
     "output_type": "execute_result"
    }
   ],
   "source": [
    "from sklearn.svm import SVC\n",
    "\n",
    "# create the model \n",
    "model = SVC(C=2.0)\n",
    "\n",
    "# train the model\n",
    "model.fit(x_train, y_train)"
   ]
  },
  {
   "cell_type": "markdown",
   "id": "1927485c",
   "metadata": {},
   "source": [
    "#### Evaluation"
   ]
  },
  {
   "cell_type": "code",
   "execution_count": 6,
   "id": "fba04a61",
   "metadata": {},
   "outputs": [],
   "source": [
    "# predict the values\n",
    "y_prediction = model.predict(x_test)\n",
    "# print(y_prediction)"
   ]
  },
  {
   "cell_type": "code",
   "execution_count": 7,
   "id": "336a31fc",
   "metadata": {},
   "outputs": [
    {
     "name": "stdout",
     "output_type": "stream",
     "text": [
      "[[339  54]\n",
      " [ 21 586]]\n"
     ]
    }
   ],
   "source": [
    "# confusion matrix\n",
    "from sklearn.metrics import confusion_matrix\n",
    "\n",
    "cm = confusion_matrix(y_test, y_prediction)\n",
    "print(cm)"
   ]
  },
  {
   "cell_type": "code",
   "execution_count": 8,
   "id": "7522d041",
   "metadata": {},
   "outputs": [
    {
     "name": "stdout",
     "output_type": "stream",
     "text": [
      "accuracy = 92.50 %\n"
     ]
    }
   ],
   "source": [
    "# accuracy\n",
    "from sklearn.metrics import accuracy_score\n",
    "\n",
    "print(f\"accuracy = {accuracy_score(y_test, y_prediction) * 100 :0.2f} %\")"
   ]
  },
  {
   "cell_type": "code",
   "execution_count": 9,
   "id": "76b0e263",
   "metadata": {},
   "outputs": [
    {
     "name": "stdout",
     "output_type": "stream",
     "text": [
      "              precision    recall  f1-score   support\n",
      "\n",
      "           0       0.94      0.86      0.90       393\n",
      "           1       0.92      0.97      0.94       607\n",
      "\n",
      "    accuracy                           0.93      1000\n",
      "   macro avg       0.93      0.91      0.92      1000\n",
      "weighted avg       0.93      0.93      0.92      1000\n",
      "\n"
     ]
    }
   ],
   "source": [
    "# classsification report\n",
    "from sklearn.metrics import classification_report\n",
    "\n",
    "print(classification_report(y_test, y_prediction))"
   ]
  },
  {
   "cell_type": "code",
   "execution_count": 10,
   "id": "fa6e6b5e",
   "metadata": {},
   "outputs": [
    {
     "name": "stdout",
     "output_type": "stream",
     "text": [
      "roc auc score = 0.9139995221147679\n"
     ]
    }
   ],
   "source": [
    "# RoC score\n",
    "from sklearn.metrics import roc_auc_score\n",
    "\n",
    "print(f\"roc auc score = {roc_auc_score(y_test, y_prediction)}\")"
   ]
  },
  {
   "cell_type": "code",
   "execution_count": 11,
   "id": "3af620e9",
   "metadata": {},
   "outputs": [
    {
     "data": {
      "text/plain": [
       "[<matplotlib.lines.Line2D at 0x1718ae7c0d0>]"
      ]
     },
     "execution_count": 11,
     "metadata": {},
     "output_type": "execute_result"
    },
    {
     "data": {
      "image/png": "[encoded data removed]",
      "text/plain": [
       "<Figure size 432x288 with 1 Axes>"
      ]
     },
     "metadata": {
      "needs_background": "light"
     },
     "output_type": "display_data"
    }
   ],
   "source": [
    "# AuC \n",
    "from sklearn.metrics import plot_roc_curve\n",
    "\n",
    "plot_roc_curve(model, x_test, y_test)\n",
    "plt.plot([0, 1], [0, 1], linestyle=\"--\")"
   ]
  },
  {
   "cell_type": "code",
   "execution_count": null,
   "id": "047a6b67",
   "metadata": {},
   "outputs": [],
   "source": []
  }
 ],
 "metadata": {
  "kernelspec": {
   "display_name": "Python 3",
   "language": "python",
   "name": "python3"
  },
  "language_info": {
   "codemirror_mode": {
    "name": "ipython",
    "version": 3
   },
   "file_extension": ".py",
   "mimetype": "text/x-python",
   "name": "python",
   "nbconvert_exporter": "python",
   "pygments_lexer": "ipython3",
   "version": "3.9.2"
  }
 },
 "nbformat": 4,
 "nbformat_minor": 5
}
