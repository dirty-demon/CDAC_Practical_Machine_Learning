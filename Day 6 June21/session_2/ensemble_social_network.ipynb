{
 "cells": [
  {
   "cell_type": "markdown",
   "id": "9b23024d",
   "metadata": {},
   "source": [
    "# Ensemble Learning"
   ]
  },
  {
   "cell_type": "code",
   "execution_count": 1,
   "id": "8e16c835",
   "metadata": {},
   "outputs": [],
   "source": [
    "import numpy as np\n",
    "import pandas as pd\n",
    "import matplotlib.pyplot as plt\n",
    "import seaborn as sns"
   ]
  },
  {
   "cell_type": "code",
   "execution_count": 2,
   "id": "3e2afb06",
   "metadata": {},
   "outputs": [
    {
     "name": "stdout",
     "output_type": "stream",
     "text": [
      "    User ID  Gender  Age  EstimatedSalary  Purchased\n",
      "0  15624510    Male   19            19000          0\n",
      "1  15810944    Male   35            20000          0\n",
      "2  15668575  Female   26            43000          0\n",
      "3  15603246  Female   27            57000          0\n",
      "4  15804002    Male   19            76000          0\n"
     ]
    }
   ],
   "source": [
    "df = pd.read_csv('Social_Network_Ads.csv')\n",
    "print(df.head())"
   ]
  },
  {
   "cell_type": "code",
   "execution_count": 3,
   "id": "27c9592e",
   "metadata": {},
   "outputs": [],
   "source": [
    "# decide the x and y\n",
    "x = df.drop(['Purchased', 'User ID', 'Gender'], axis=1)\n",
    "y = df['Purchased']"
   ]
  },
  {
   "cell_type": "code",
   "execution_count": 4,
   "id": "9218ab10",
   "metadata": {},
   "outputs": [],
   "source": [
    "# split the data into train and test datasets\n",
    "from sklearn.model_selection import train_test_split\n",
    "\n",
    "x_train, x_test, y_train, y_test = train_test_split(x, y, train_size=0.8, random_state=123456)"
   ]
  },
  {
   "cell_type": "code",
   "execution_count": 11,
   "id": "634e12c1",
   "metadata": {},
   "outputs": [],
   "source": [
    "def decision_tree(age, salary):\n",
    "    from sklearn.tree import DecisionTreeClassifier\n",
    "    model = DecisionTreeClassifier(criterion=\"entropy\")\n",
    "    model.fit(x_train, y_train)\n",
    "    predictions = model.predict([[age, salary]])\n",
    "    return predictions[0]"
   ]
  },
  {
   "cell_type": "code",
   "execution_count": 34,
   "id": "76a4a63b",
   "metadata": {},
   "outputs": [
    {
     "name": "stdout",
     "output_type": "stream",
     "text": [
      "final result from decision tree = 1\n"
     ]
    }
   ],
   "source": [
    "answer = decision_tree(30, 200000)\n",
    "print(f\"final result from decision tree = {answer}\")"
   ]
  },
  {
   "cell_type": "code",
   "execution_count": 13,
   "id": "05e5f8fa",
   "metadata": {},
   "outputs": [],
   "source": [
    "def knn(age, salary):\n",
    "    from sklearn.neighbors import KNeighborsClassifier\n",
    "    model = KNeighborsClassifier(n_neighbors=5)\n",
    "    model.fit(x_train, y_train)\n",
    "    predictions = model.predict([[age, salary]])\n",
    "    return predictions[0]"
   ]
  },
  {
   "cell_type": "code",
   "execution_count": 33,
   "id": "ff055af3",
   "metadata": {},
   "outputs": [
    {
     "name": "stdout",
     "output_type": "stream",
     "text": [
      "final result from knn = 1\n"
     ]
    }
   ],
   "source": [
    "answer = knn(30, 200000)\n",
    "print(f\"final result from knn = {answer}\")"
   ]
  },
  {
   "cell_type": "code",
   "execution_count": 20,
   "id": "f85a6067",
   "metadata": {},
   "outputs": [],
   "source": [
    "def logistic_regression(age, salary):\n",
    "    from sklearn.linear_model import LogisticRegressionCV\n",
    "    model = LogisticRegressionCV(max_iter=1000)\n",
    "    model.fit(x_train, y_train)\n",
    "    predictions = model.predict([[age, salary]])\n",
    "    return predictions[0]"
   ]
  },
  {
   "cell_type": "code",
   "execution_count": 27,
   "id": "fbb605a5",
   "metadata": {},
   "outputs": [
    {
     "name": "stdout",
     "output_type": "stream",
     "text": [
      "final result from logistic regression = 1\n"
     ]
    }
   ],
   "source": [
    "answer = logistic_regression(30, 200000)\n",
    "print(f\"final result from logistic regression = {answer}\")"
   ]
  },
  {
   "cell_type": "code",
   "execution_count": 35,
   "id": "14fa82bc",
   "metadata": {},
   "outputs": [],
   "source": [
    "def svm(age, salary):\n",
    "    from sklearn.svm import SVC\n",
    "    model = SVC(C=2.0)\n",
    "    model.fit(x_train, y_train)\n",
    "    predictions = model.predict([[age, salary]])\n",
    "    return predictions[0]"
   ]
  },
  {
   "cell_type": "code",
   "execution_count": 36,
   "id": "e86ef5f7",
   "metadata": {},
   "outputs": [
    {
     "name": "stdout",
     "output_type": "stream",
     "text": [
      "final result from svm = 0\n"
     ]
    }
   ],
   "source": [
    "answer = svm(30, 200000)\n",
    "print(f\"final result from svm = {answer}\")"
   ]
  },
  {
   "cell_type": "code",
   "execution_count": null,
   "id": "d7ba97d5",
   "metadata": {},
   "outputs": [],
   "source": []
  }
 ],
 "metadata": {
  "kernelspec": {
   "display_name": "Python 3",
   "language": "python",
   "name": "python3"
  },
  "language_info": {
   "codemirror_mode": {
    "name": "ipython",
    "version": 3
   },
   "file_extension": ".py",
   "mimetype": "text/x-python",
   "name": "python",
   "nbconvert_exporter": "python",
   "pygments_lexer": "ipython3",
   "version": "3.9.2"
  }
 },
 "nbformat": 4,
 "nbformat_minor": 5
}
