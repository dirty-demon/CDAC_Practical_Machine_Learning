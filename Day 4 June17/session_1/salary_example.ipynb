{
 "cells": [
  {
   "cell_type": "markdown",
   "id": "7260147a",
   "metadata": {},
   "source": [
    "## Simple Linear Regression\n",
    "\n",
    "- regression having one dependent variable and one independent variables\n",
    "- bivariate data set"
   ]
  },
  {
   "cell_type": "code",
   "execution_count": 51,
   "id": "569cba58",
   "metadata": {},
   "outputs": [],
   "source": [
    "%matplotlib inline\n",
    "import numpy as np\n",
    "import pandas as pd\n",
    "import matplotlib.pyplot as plt\n",
    "import seaborn as sns"
   ]
  },
  {
   "cell_type": "code",
   "execution_count": 3,
   "id": "a47ebf7f",
   "metadata": {},
   "outputs": [],
   "source": [
    "df = pd.read_csv('Salary_Data.csv')"
   ]
  },
  {
   "cell_type": "code",
   "execution_count": 4,
   "id": "4d7f7de1",
   "metadata": {},
   "outputs": [],
   "source": [
    "# decide x and y\n",
    "x = df.drop('Salary', axis=1)\n",
    "y = df['Salary']"
   ]
  },
  {
   "cell_type": "code",
   "execution_count": 54,
   "id": "e6cb4294",
   "metadata": {},
   "outputs": [],
   "source": [
    "# split the data into train and test set\n",
    "from sklearn.model_selection import train_test_split\n",
    "\n",
    "x_train, x_test, y_train, y_test = train_test_split(x, y, train_size=0.8, random_state=123456)"
   ]
  },
  {
   "cell_type": "code",
   "execution_count": 21,
   "id": "71be8a01",
   "metadata": {},
   "outputs": [
    {
     "data": {
      "text/plain": [
       "LinearRegression()"
      ]
     },
     "execution_count": 21,
     "metadata": {},
     "output_type": "execute_result"
    }
   ],
   "source": [
    "from sklearn.linear_model import LinearRegression\n",
    "\n",
    "# create a model\n",
    "model = LinearRegression()\n",
    "\n",
    "# train the model\n",
    "# create the formula by studying the relationship between x_train and y_train\n",
    "model.fit(x_train, y_train)"
   ]
  },
  {
   "cell_type": "code",
   "execution_count": 22,
   "id": "06d9f145",
   "metadata": {},
   "outputs": [],
   "source": [
    "# predict the future values of x_test\n",
    "y_prediction = model.predict(x_test)\n",
    "# print(x_test)\n",
    "# print(y_prediction)"
   ]
  },
  {
   "cell_type": "code",
   "execution_count": 23,
   "id": "7b762dda",
   "metadata": {},
   "outputs": [
    {
     "name": "stdout",
     "output_type": "stream",
     "text": [
      "mean absolute error = 2734.304777539491\n"
     ]
    }
   ],
   "source": [
    "# evluate the model\n",
    "from sklearn.metrics import mean_absolute_error, mean_squared_error, r2_score\n",
    "\n",
    "MAE = mean_absolute_error(y_test, y_prediction)\n",
    "print(f\"mean absolute error = {MAE}\")"
   ]
  },
  {
   "cell_type": "code",
   "execution_count": 24,
   "id": "fada7ff7",
   "metadata": {},
   "outputs": [
    {
     "name": "stdout",
     "output_type": "stream",
     "text": [
      "mean squared error = 9601570.176354375\n"
     ]
    }
   ],
   "source": [
    "MSE = mean_squared_error(y_test, y_prediction)\n",
    "print(f\"mean squared error = {MSE}\")"
   ]
  },
  {
   "cell_type": "code",
   "execution_count": 25,
   "id": "7dcf2fd1",
   "metadata": {},
   "outputs": [
    {
     "name": "stdout",
     "output_type": "stream",
     "text": [
      "root mean squared error = 3098.640052725449\n"
     ]
    }
   ],
   "source": [
    "RMSE = np.sqrt(MSE)\n",
    "print(f\"root mean squared error = {RMSE}\")"
   ]
  },
  {
   "cell_type": "code",
   "execution_count": 26,
   "id": "00993494",
   "metadata": {},
   "outputs": [
    {
     "name": "stdout",
     "output_type": "stream",
     "text": [
      "R2 score = 0.9932427848341637\n"
     ]
    }
   ],
   "source": [
    "R2 = r2_score(y_test, y_prediction)\n",
    "print(f\"R2 score = {R2}\")"
   ]
  },
  {
   "cell_type": "markdown",
   "id": "f898623e",
   "metadata": {},
   "source": [
    " #### data visualization"
   ]
  },
  {
   "cell_type": "code",
   "execution_count": 57,
   "id": "480a8bc5",
   "metadata": {},
   "outputs": [
    {
     "data": {
      "text/plain": [
       "Text(0.5, 1.0, 'Final Visualization')"
      ]
     },
     "execution_count": 57,
     "metadata": {},
     "output_type": "execute_result"
    },
    {
     "data": {
      "image/png": "[encoded data removed]",
      "text/plain": [
       "<Figure size 576x396 with 1 Axes>"
      ]
     },
     "metadata": {},
     "output_type": "display_data"
    }
   ],
   "source": [
    "# plot all the experience and salary points from test dataset (observed)\n",
    "plt.scatter(x_test, y_test, label=\"test points\")\n",
    "plt.style.use('seaborn')\n",
    "\n",
    "# plot a best fit regression line\n",
    "plt.scatter(x_test, y_prediction, color=\"red\")\n",
    "plt.plot(x_test, y_prediction, color=\"red\", label=\"regression line\")\n",
    "\n",
    "# plot a mean line\n",
    "y_mean = np.ones(len(y_test)) * y_test.mean() \n",
    "plt.plot(x_test, y_mean, color=\"green\", label=\"mean line\")\n",
    "plt.scatter(x_test, y_mean, color=\"green\")\n",
    "\n",
    "plt.legend()\n",
    "plt.xlabel(\"Years of Experience\")\n",
    "plt.ylabel(\"Salary\")\n",
    "plt.title(\"Final Visualization\")"
   ]
  },
  {
   "cell_type": "code",
   "execution_count": null,
   "id": "be84ea37",
   "metadata": {},
   "outputs": [],
   "source": []
  }
 ],
 "metadata": {
  "kernelspec": {
   "display_name": "Python 3",
   "language": "python",
   "name": "python3"
  },
  "language_info": {
   "codemirror_mode": {
    "name": "ipython",
    "version": 3
   },
   "file_extension": ".py",
   "mimetype": "text/x-python",
   "name": "python",
   "nbconvert_exporter": "python",
   "pygments_lexer": "ipython3",
   "version": "3.9.2"
  }
 },
 "nbformat": 4,
 "nbformat_minor": 5
}
