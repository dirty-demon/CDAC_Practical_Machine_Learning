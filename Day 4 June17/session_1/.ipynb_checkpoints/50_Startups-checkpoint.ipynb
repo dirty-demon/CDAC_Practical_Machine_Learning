{
 "cells": [
  {
   "cell_type": "markdown",
   "id": "d587b548",
   "metadata": {},
   "source": [
    "## Multiple Linear Regression\n",
    "\n",
    "- regression having one dependent variable and multiple independent variables (>2)\n",
    "- multivariate dataset"
   ]
  },
  {
   "cell_type": "markdown",
   "id": "eab12ed0",
   "metadata": {},
   "source": [
    "#### import required packages"
   ]
  },
  {
   "cell_type": "code",
   "execution_count": 1,
   "id": "2aff6116",
   "metadata": {},
   "outputs": [],
   "source": [
    "%matplotlib inline\n",
    "import numpy as np\n",
    "import pandas as pd\n",
    "import matplotlib.pyplot as plt\n",
    "import seaborn as sns"
   ]
  },
  {
   "cell_type": "markdown",
   "id": "4ebc139f",
   "metadata": {},
   "source": [
    "#### load the data"
   ]
  },
  {
   "cell_type": "code",
   "execution_count": 13,
   "id": "9c6d0f8a",
   "metadata": {},
   "outputs": [
    {
     "name": "stdout",
     "output_type": "stream",
     "text": [
      "         RnD  Administration  Marketing       State     Profit\n",
      "0  165349.20       136897.80  471784.10    New York  192261.83\n",
      "1  162597.70       151377.59  443898.53  California  191792.06\n",
      "2  153441.51       101145.55  407934.54     Florida  191050.39\n",
      "3  144372.41       118671.85  383199.62    New York  182901.99\n",
      "4  142107.34        91391.77  366168.42     Florida  166187.94\n"
     ]
    }
   ],
   "source": [
    "df = pd.read_csv('50_Startups.csv')\n",
    "print(df.head())"
   ]
  },
  {
   "cell_type": "markdown",
   "id": "86f89ba8",
   "metadata": {},
   "source": [
    "#### EDA"
   ]
  },
  {
   "cell_type": "code",
   "execution_count": 4,
   "id": "f99aa3df",
   "metadata": {},
   "outputs": [
    {
     "name": "stdout",
     "output_type": "stream",
     "text": [
      "                 RnD  Administration      Marketing         Profit\n",
      "count      50.000000       50.000000      50.000000      50.000000\n",
      "mean    73721.615600   121344.639600  211025.097800  112012.639200\n",
      "std     45902.256482    28017.802755  122290.310726   40306.180338\n",
      "min         0.000000    51283.140000       0.000000   14681.400000\n",
      "25%     39936.370000   103730.875000  129300.132500   90138.902500\n",
      "50%     73051.080000   122699.795000  212716.240000  107978.190000\n",
      "75%    101602.800000   144842.180000  299469.085000  139765.977500\n",
      "max    165349.200000   182645.560000  471784.100000  192261.830000\n"
     ]
    }
   ],
   "source": [
    "print(df.describe())"
   ]
  },
  {
   "cell_type": "code",
   "execution_count": 5,
   "id": "ae1883e7",
   "metadata": {},
   "outputs": [
    {
     "name": "stdout",
     "output_type": "stream",
     "text": [
      "<class 'pandas.core.frame.DataFrame'>\n",
      "RangeIndex: 50 entries, 0 to 49\n",
      "Data columns (total 5 columns):\n",
      " #   Column          Non-Null Count  Dtype  \n",
      "---  ------          --------------  -----  \n",
      " 0   RnD             50 non-null     float64\n",
      " 1   Administration  50 non-null     float64\n",
      " 2   Marketing       50 non-null     float64\n",
      " 3   State           50 non-null     object \n",
      " 4   Profit          50 non-null     float64\n",
      "dtypes: float64(4), object(1)\n",
      "memory usage: 2.1+ KB\n"
     ]
    }
   ],
   "source": [
    "df.info()"
   ]
  },
  {
   "cell_type": "markdown",
   "id": "b706b392",
   "metadata": {},
   "source": [
    "#### data cleansing process"
   ]
  },
  {
   "cell_type": "code",
   "execution_count": 7,
   "id": "ada78e3a",
   "metadata": {},
   "outputs": [
    {
     "name": "stdout",
     "output_type": "stream",
     "text": [
      "RnD               0\n",
      "Administration    0\n",
      "Marketing         0\n",
      "State             0\n",
      "Profit            0\n",
      "dtype: int64\n"
     ]
    }
   ],
   "source": [
    "# since there is no missing value, we dont have to replace any of them\n",
    "print(df.isna().sum())"
   ]
  },
  {
   "cell_type": "code",
   "execution_count": 8,
   "id": "6c2fe81d",
   "metadata": {},
   "outputs": [
    {
     "name": "stdout",
     "output_type": "stream",
     "text": [
      "['New York' 'California' 'Florida']\n"
     ]
    }
   ],
   "source": [
    "# since state columns is not numeric, we have to convert the text values to numeric ones\n",
    "state_unique_values = df['State'].unique()\n",
    "print(state_unique_values)"
   ]
  },
  {
   "cell_type": "markdown",
   "id": "97350ba6",
   "metadata": {},
   "source": [
    "#### replacement logic\n",
    "\n",
    "we have following categories\n",
    "- 'New York' \n",
    "- 'California' \n",
    "- 'Florida'\n",
    "\n",
    "replace every category with one numeric representation\n",
    "- 'New York' will be replaced with **1**\n",
    "- 'California' will be replaced with **2**\n",
    "- 'Florida' will be replaced with **3**"
   ]
  },
  {
   "cell_type": "code",
   "execution_count": 17,
   "id": "66845db2",
   "metadata": {},
   "outputs": [
    {
     "name": "stdout",
     "output_type": "stream",
     "text": [
      "         RnD  Administration  Marketing  State     Profit\n",
      "0  165349.20       136897.80  471784.10      1  192261.83\n",
      "1  162597.70       151377.59  443898.53      2  191792.06\n",
      "2  153441.51       101145.55  407934.54      3  191050.39\n",
      "3  144372.41       118671.85  383199.62      1  182901.99\n",
      "4  142107.34        91391.77  366168.42      3  166187.94\n"
     ]
    }
   ],
   "source": [
    "# since the values are pretty small we can decide the replacement\n",
    "# replacement_values = [1, 2, 3]\n",
    "\n",
    "# but if the unique values are pretty having large set of values then create the replacement array dynamically\n",
    "replacement_values = np.arange(1, len(state_unique_values) + 1)\n",
    "\n",
    "# replace the state values with replacement_values\n",
    "\n",
    "# replaces the state values with numeric values and returns a new dataset\n",
    "# df = df.replace(state_unique_values, replacement_values)\n",
    "\n",
    "# replace the state values with numeric ones in the same dataset\n",
    "df.replace(state_unique_values, replacement_values, inplace=True)\n",
    "\n",
    "print(df.head())"
   ]
  },
  {
   "cell_type": "code",
   "execution_count": 15,
   "id": "7bf9e63d",
   "metadata": {},
   "outputs": [
    {
     "name": "stdout",
     "output_type": "stream",
     "text": [
      "                     RnD  Administration  Marketing     State    Profit\n",
      "RnD             1.000000        0.241955   0.724248  0.037930  0.972900\n",
      "Administration  0.241955        1.000000  -0.032154  0.003026  0.200717\n",
      "Marketing       0.724248       -0.032154   1.000000  0.137777  0.747766\n",
      "State           0.037930        0.003026   0.137777  1.000000  0.048471\n",
      "Profit          0.972900        0.200717   0.747766  0.048471  1.000000\n"
     ]
    }
   ],
   "source": [
    "corr = df.corr()\n",
    "print(corr)"
   ]
  },
  {
   "cell_type": "code",
   "execution_count": null,
   "id": "143e09a1",
   "metadata": {},
   "outputs": [],
   "source": []
  },
  {
   "cell_type": "code",
   "execution_count": null,
   "id": "406a54ac",
   "metadata": {},
   "outputs": [],
   "source": []
  },
  {
   "cell_type": "markdown",
   "id": "6b21a97a",
   "metadata": {},
   "source": [
    "#### preparing the dataset"
   ]
  },
  {
   "cell_type": "code",
   "execution_count": 18,
   "id": "00cb194d",
   "metadata": {},
   "outputs": [],
   "source": [
    "# decide the x and y\n",
    "x = df.drop(['Profit', 'State'], axis=1)\n",
    "y = df['Profit']"
   ]
  },
  {
   "cell_type": "code",
   "execution_count": 20,
   "id": "d191c207",
   "metadata": {},
   "outputs": [],
   "source": [
    "# split the data into train and test\n",
    "from sklearn.model_selection import train_test_split\n",
    "\n",
    "x_train, x_test, y_train, y_test = train_test_split(x, y, train_size=0.8, random_state=123456)"
   ]
  },
  {
   "cell_type": "code",
   "execution_count": null,
   "id": "8b8c117b",
   "metadata": {},
   "outputs": [],
   "source": []
  }
 ],
 "metadata": {
  "kernelspec": {
   "display_name": "Python 3",
   "language": "python",
   "name": "python3"
  },
  "language_info": {
   "codemirror_mode": {
    "name": "ipython",
    "version": 3
   },
   "file_extension": ".py",
   "mimetype": "text/x-python",
   "name": "python",
   "nbconvert_exporter": "python",
   "pygments_lexer": "ipython3",
   "version": "3.8.2"
  }
 },
 "nbformat": 4,
 "nbformat_minor": 5
}
