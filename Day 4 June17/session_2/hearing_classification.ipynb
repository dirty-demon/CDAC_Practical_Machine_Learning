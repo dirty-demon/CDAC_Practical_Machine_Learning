{
 "cells": [
  {
   "cell_type": "markdown",
   "id": "b3e858c4",
   "metadata": {},
   "source": [
    "#### import packages"
   ]
  },
  {
   "cell_type": "code",
   "execution_count": 1,
   "id": "f9d01672",
   "metadata": {},
   "outputs": [],
   "source": [
    "# import required packages\n",
    "import numpy as np\n",
    "import pandas as pd\n",
    "import matplotlib.pyplot as plt\n",
    "import seaborn as sns"
   ]
  },
  {
   "cell_type": "markdown",
   "id": "990e5ac7",
   "metadata": {},
   "source": [
    "#### load the data"
   ]
  },
  {
   "cell_type": "code",
   "execution_count": 2,
   "id": "7712a5f1",
   "metadata": {},
   "outputs": [
    {
     "name": "stdout",
     "output_type": "stream",
     "text": [
      "    age  physical_score  test_result\n",
      "0  33.0            40.7            1\n",
      "1  50.0            37.2            1\n",
      "2  52.0            24.7            0\n",
      "3  56.0            31.0            0\n",
      "4  35.0            42.9            1\n"
     ]
    }
   ],
   "source": [
    "df = pd.read_csv('hearing_test.csv')\n",
    "print(df.head())"
   ]
  },
  {
   "cell_type": "markdown",
   "id": "f3179555",
   "metadata": {},
   "source": [
    "#### prepare the dataset"
   ]
  },
  {
   "cell_type": "code",
   "execution_count": 3,
   "id": "56f38db7",
   "metadata": {},
   "outputs": [],
   "source": [
    "x = df.drop('test_result', axis=1)\n",
    "y = df['test_result']"
   ]
  },
  {
   "cell_type": "code",
   "execution_count": 6,
   "id": "82f940b7",
   "metadata": {},
   "outputs": [],
   "source": [
    "# split the data into train and test \n",
    "from sklearn.model_selection import train_test_split\n",
    "\n",
    "x_train, x_test, y_train, y_test = train_test_split(x, y, train_size=0.8, random_state=123456)"
   ]
  },
  {
   "cell_type": "markdown",
   "id": "3e66448d",
   "metadata": {},
   "source": [
    "#### prepare the model"
   ]
  },
  {
   "cell_type": "code",
   "execution_count": 5,
   "id": "286007b6",
   "metadata": {},
   "outputs": [
    {
     "data": {
      "text/plain": [
       "LogisticRegressionCV()"
      ]
     },
     "execution_count": 5,
     "metadata": {},
     "output_type": "execute_result"
    }
   ],
   "source": [
    "from sklearn.linear_model import LogisticRegressionCV\n",
    "\n",
    "# create the model\n",
    "model = LogisticRegressionCV()\n",
    "\n",
    "# train the model\n",
    "model.fit(x_train, y_train)"
   ]
  },
  {
   "cell_type": "markdown",
   "id": "6991a0e7",
   "metadata": {},
   "source": [
    "#### evaluate the model"
   ]
  },
  {
   "cell_type": "code",
   "execution_count": 11,
   "id": "187809c8",
   "metadata": {},
   "outputs": [],
   "source": [
    "y_prediction = model.predict(x_test)\n",
    "# print(y_prediction)"
   ]
  },
  {
   "cell_type": "code",
   "execution_count": 12,
   "id": "f5bfb050",
   "metadata": {},
   "outputs": [],
   "source": [
    "# print(y_test)"
   ]
  },
  {
   "cell_type": "code",
   "execution_count": 23,
   "id": "6c2672f7",
   "metadata": {},
   "outputs": [
    {
     "name": "stdout",
     "output_type": "stream",
     "text": [
      "[[332  61]\n",
      " [ 31 576]]\n"
     ]
    }
   ],
   "source": [
    "from sklearn.metrics import confusion_matrix, accuracy_score, classification_report\n",
    "\n",
    "cm = confusion_matrix(y_test, y_prediction)\n",
    "print(cm)"
   ]
  },
  {
   "cell_type": "code",
   "execution_count": 14,
   "id": "cbe7c0a3",
   "metadata": {},
   "outputs": [
    {
     "name": "stdout",
     "output_type": "stream",
     "text": [
      "correct predictions = 908\n"
     ]
    }
   ],
   "source": [
    "correct_preditions = cm[0, 0] + cm[1, 1]\n",
    "print(f\"correct predictions = {correct_preditions}\")"
   ]
  },
  {
   "cell_type": "code",
   "execution_count": 15,
   "id": "91f8eee2",
   "metadata": {},
   "outputs": [
    {
     "name": "stdout",
     "output_type": "stream",
     "text": [
      "wrong predictions = 92\n"
     ]
    }
   ],
   "source": [
    "wrong_preditions = cm[0, 1] + cm[1, 0]\n",
    "print(f\"wrong predictions = {wrong_preditions}\")"
   ]
  },
  {
   "cell_type": "code",
   "execution_count": 16,
   "id": "baf6d1d9",
   "metadata": {},
   "outputs": [
    {
     "name": "stdout",
     "output_type": "stream",
     "text": [
      "total prediction = 1000\n"
     ]
    }
   ],
   "source": [
    "total = cm[0, 0] + cm[0, 1] + cm[1, 0] + cm[1, 1]\n",
    "print(f\"total prediction = {total}\")"
   ]
  },
  {
   "cell_type": "code",
   "execution_count": 19,
   "id": "986ea872",
   "metadata": {},
   "outputs": [
    {
     "name": "stdout",
     "output_type": "stream",
     "text": [
      "accuracy = 90.80%\n"
     ]
    }
   ],
   "source": [
    "accuracy = correct_preditions / total\n",
    "print(f\"accuracy = {accuracy * 100:0.2f}%\")"
   ]
  },
  {
   "cell_type": "code",
   "execution_count": 21,
   "id": "77561e13",
   "metadata": {},
   "outputs": [
    {
     "name": "stdout",
     "output_type": "stream",
     "text": [
      "accuracy = 90.80%\n"
     ]
    }
   ],
   "source": [
    "print(f\"accuracy = {accuracy_score(y_test, y_prediction) * 100:0.2f}%\")"
   ]
  },
  {
   "cell_type": "code",
   "execution_count": 26,
   "id": "113ca3ce",
   "metadata": {
    "scrolled": true
   },
   "outputs": [
    {
     "name": "stdout",
     "output_type": "stream",
     "text": [
      "              precision    recall  f1-score   support\n",
      "\n",
      "           0       0.91      0.84      0.88       393\n",
      "           1       0.90      0.95      0.93       607\n",
      "\n",
      "    accuracy                           0.91      1000\n",
      "   macro avg       0.91      0.90      0.90      1000\n",
      "weighted avg       0.91      0.91      0.91      1000\n",
      "\n"
     ]
    }
   ],
   "source": [
    "print(classification_report(y_test, y_prediction))"
   ]
  },
  {
   "cell_type": "code",
   "execution_count": null,
   "id": "184da59b",
   "metadata": {},
   "outputs": [],
   "source": []
  }
 ],
 "metadata": {
  "kernelspec": {
   "display_name": "Python 3",
   "language": "python",
   "name": "python3"
  },
  "language_info": {
   "codemirror_mode": {
    "name": "ipython",
    "version": 3
   },
   "file_extension": ".py",
   "mimetype": "text/x-python",
   "name": "python",
   "nbconvert_exporter": "python",
   "pygments_lexer": "ipython3",
   "version": "3.9.2"
  }
 },
 "nbformat": 4,
 "nbformat_minor": 5
}
