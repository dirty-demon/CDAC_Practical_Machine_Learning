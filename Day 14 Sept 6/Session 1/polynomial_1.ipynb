{
 "cells": [
  {
   "cell_type": "code",
   "execution_count": 1,
   "id": "93bfb2bc",
   "metadata": {},
   "outputs": [],
   "source": [
    "import numpy as np\n",
    "import pandas as pd\n",
    "import matplotlib.pyplot as plt"
   ]
  },
  {
   "cell_type": "code",
   "execution_count": 32,
   "id": "28549ef5",
   "metadata": {},
   "outputs": [],
   "source": [
    "x = 6 * np.random.rand(200, 1) - 3"
   ]
  },
  {
   "cell_type": "code",
   "execution_count": 39,
   "id": "f755c7c8",
   "metadata": {},
   "outputs": [],
   "source": [
    "# y = 2 + 0.9 x + 0.8 x2\n",
    "y = 2 + 0.9 * x + 0.8 * x ** 2 + np.random.randn(200, 1)"
   ]
  },
  {
   "cell_type": "code",
   "execution_count": 40,
   "id": "229fcfda",
   "metadata": {},
   "outputs": [
    {
     "data": {
      "text/plain": [
       "Text(0, 0.5, 'y')"
      ]
     },
     "execution_count": 40,
     "metadata": {},
     "output_type": "execute_result"
    },
    {
     "data": {
      "image/png": "[encoded data removed]",
      "text/plain": [
       "<Figure size 432x288 with 1 Axes>"
      ]
     },
     "metadata": {
      "needs_background": "light"
     },
     "output_type": "display_data"
    }
   ],
   "source": [
    "plt.plot(x, y, 'b.')\n",
    "plt.xlabel('x')\n",
    "plt.ylabel('y')"
   ]
  },
  {
   "cell_type": "code",
   "execution_count": 41,
   "id": "d29e19d0",
   "metadata": {},
   "outputs": [],
   "source": [
    "from sklearn.model_selection import train_test_split\n",
    "\n",
    "x_train, x_test, y_train, y_test = train_test_split(x, y, train_size=0.8, random_state=123456)"
   ]
  },
  {
   "cell_type": "markdown",
   "id": "88911676",
   "metadata": {},
   "source": [
    "## Linear Regression without polynomial features"
   ]
  },
  {
   "cell_type": "code",
   "execution_count": 42,
   "id": "71b6cb42",
   "metadata": {},
   "outputs": [
    {
     "data": {
      "text/plain": [
       "LinearRegression()"
      ]
     },
     "execution_count": 42,
     "metadata": {},
     "output_type": "execute_result"
    }
   ],
   "source": [
    "# create and fit the model\n",
    "from sklearn.linear_model import LinearRegression\n",
    "\n",
    "model = LinearRegression()\n",
    "model.fit(x_train, y_train)"
   ]
  },
  {
   "cell_type": "code",
   "execution_count": 44,
   "id": "41c8d9bc",
   "metadata": {},
   "outputs": [
    {
     "name": "stdout",
     "output_type": "stream",
     "text": [
      "r2 score = 0.3653794725946421\n"
     ]
    }
   ],
   "source": [
    "y_prediction = model.predict(x_test)\n",
    "\n",
    "from sklearn.metrics import r2_score\n",
    "print(f\"r2 score = {r2_score(y_test, y_prediction)}\")"
   ]
  },
  {
   "cell_type": "code",
   "execution_count": 48,
   "id": "f18f8386",
   "metadata": {},
   "outputs": [
    {
     "data": {
      "text/plain": [
       "Text(0, 0.5, 'Y')"
      ]
     },
     "execution_count": 48,
     "metadata": {},
     "output_type": "execute_result"
    },
    {
     "data": {
      "image/png": "[encoded data removed]",
      "text/plain": [
       "<Figure size 432x288 with 1 Axes>"
      ]
     },
     "metadata": {
      "needs_background": "light"
     },
     "output_type": "display_data"
    }
   ],
   "source": [
    "plt.plot(x_train, y_train, 'b.')\n",
    "\n",
    "# regression line\n",
    "plt.plot(x_train, model.predict(x_train), color=\"red\", label=\"regresion line\")\n",
    "plt.legend()\n",
    "plt.xlabel('X')\n",
    "plt.ylabel('Y')"
   ]
  },
  {
   "cell_type": "markdown",
   "id": "6a30aa84",
   "metadata": {},
   "source": [
    "## Linear Regression with polynomial features"
   ]
  },
  {
   "cell_type": "markdown",
   "id": "1978d53c",
   "metadata": {},
   "source": [
    "#### add polynomial features"
   ]
  },
  {
   "cell_type": "code",
   "execution_count": 50,
   "id": "f536ba5e",
   "metadata": {},
   "outputs": [],
   "source": [
    "from sklearn.preprocessing import PolynomialFeatures\n",
    "\n",
    "polynomial_features = PolynomialFeatures(degree=2, include_bias=True)\n",
    "\n",
    "# adding the polynomial features to the x_train\n",
    "x_train_processed = polynomial_features.fit_transform(x_train)\n",
    "\n",
    "# adding the polynomial features to the x_test\n",
    "x_test_processed = polynomial_features.fit_transform(x_test)"
   ]
  },
  {
   "cell_type": "code",
   "execution_count": 60,
   "id": "d509af95",
   "metadata": {},
   "outputs": [
    {
     "data": {
      "text/plain": [
       "LinearRegression()"
      ]
     },
     "execution_count": 60,
     "metadata": {},
     "output_type": "execute_result"
    }
   ],
   "source": [
    "# create and fit the linear regression model\n",
    "from sklearn.linear_model import LinearRegression\n",
    "\n",
    "model = LinearRegression()\n",
    "model.fit(x_train_processed, y_train)"
   ]
  },
  {
   "cell_type": "code",
   "execution_count": 61,
   "id": "e7127de7",
   "metadata": {},
   "outputs": [
    {
     "name": "stdout",
     "output_type": "stream",
     "text": [
      "r2 score = 0.8935544460176152\n"
     ]
    }
   ],
   "source": [
    "# calcuate the r2 score\n",
    "from sklearn.metrics import r2_score\n",
    "\n",
    "y_prediction = model.predict(x_test_processed)\n",
    "print(f\"r2 score = {r2_score(y_test, y_prediction)}\")"
   ]
  },
  {
   "cell_type": "code",
   "execution_count": 66,
   "id": "1726d3a7",
   "metadata": {},
   "outputs": [
    {
     "data": {
      "text/plain": [
       "Text(0, 0.5, 'Y')"
      ]
     },
     "execution_count": 66,
     "metadata": {},
     "output_type": "execute_result"
    },
    {
     "data": {
      "image/png": "[encoded data removed]",
      "text/plain": [
       "<Figure size 432x288 with 1 Axes>"
      ]
     },
     "metadata": {
      "needs_background": "light"
     },
     "output_type": "display_data"
    }
   ],
   "source": [
    "plt.plot(x_test, y_test, 'b.')\n",
    "\n",
    "# regression line\n",
    "plt.scatter(x_test, y_prediction, color=\"red\", label=\"regresion line\")\n",
    "plt.legend()\n",
    "plt.xlabel('X')\n",
    "plt.ylabel('Y')"
   ]
  },
  {
   "cell_type": "code",
   "execution_count": null,
   "id": "132fbf57",
   "metadata": {},
   "outputs": [],
   "source": []
  },
  {
   "cell_type": "code",
   "execution_count": null,
   "id": "73f2d1fb",
   "metadata": {},
   "outputs": [],
   "source": []
  }
 ],
 "metadata": {
  "kernelspec": {
   "display_name": "Python 3",
   "language": "python",
   "name": "python3"
  },
  "language_info": {
   "codemirror_mode": {
    "name": "ipython",
    "version": 3
   },
   "file_extension": ".py",
   "mimetype": "text/x-python",
   "name": "python",
   "nbconvert_exporter": "python",
   "pygments_lexer": "ipython3",
   "version": "3.8.2"
  }
 },
 "nbformat": 4,
 "nbformat_minor": 5
}
