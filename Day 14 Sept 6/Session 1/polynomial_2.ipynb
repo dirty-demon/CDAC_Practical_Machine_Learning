{
 "cells": [
  {
   "cell_type": "code",
   "execution_count": 1,
   "id": "487fea62",
   "metadata": {},
   "outputs": [],
   "source": [
    "import numpy as np\n",
    "import pandas as pd\n",
    "import matplotlib.pyplot as plt"
   ]
  },
  {
   "cell_type": "code",
   "execution_count": 8,
   "id": "5e65e3d6",
   "metadata": {},
   "outputs": [
    {
     "name": "stdout",
     "output_type": "stream",
     "text": [
      "            Position  Level  Salary\n",
      "0   Business Analyst      1   45000\n",
      "1  Junior Consultant      2   50000\n",
      "2  Senior Consultant      3   60000\n",
      "3            Manager      4   80000\n",
      "4    Country Manager      5  110000\n",
      "         Position  Level   Salary\n",
      "5  Region Manager      6   150000\n",
      "6         Partner      7   200000\n",
      "7  Senior Partner      8   300000\n",
      "8         C-level      9   500000\n",
      "9             CEO     10  1000000\n"
     ]
    }
   ],
   "source": [
    "df = pd.read_csv('Position_Salaries.csv')\n",
    "print(df.head())\n",
    "print(df.tail())"
   ]
  },
  {
   "cell_type": "code",
   "execution_count": 3,
   "id": "7e114fef",
   "metadata": {},
   "outputs": [],
   "source": [
    "# remove Position and Salary from data as x\n",
    "x = df.drop(['Salary', 'Position'], axis=1)\n",
    "\n",
    "# get Salary from data as y\n",
    "y = df['Salary']"
   ]
  },
  {
   "cell_type": "code",
   "execution_count": 4,
   "id": "6bf40e02",
   "metadata": {},
   "outputs": [],
   "source": [
    "from sklearn.model_selection import train_test_split\n",
    "x_train, x_test, y_train, y_test = train_test_split(x, y, train_size=0.8, random_state=123456)"
   ]
  },
  {
   "cell_type": "markdown",
   "id": "743741c8",
   "metadata": {},
   "source": [
    "## Linear Regression without polynomial features"
   ]
  },
  {
   "cell_type": "code",
   "execution_count": 5,
   "id": "1da9530e",
   "metadata": {},
   "outputs": [
    {
     "data": {
      "text/plain": [
       "LinearRegression()"
      ]
     },
     "execution_count": 5,
     "metadata": {},
     "output_type": "execute_result"
    }
   ],
   "source": [
    "from sklearn.linear_model import LinearRegression\n",
    "model = LinearRegression()\n",
    "model.fit(x_train, y_train)"
   ]
  },
  {
   "cell_type": "code",
   "execution_count": 6,
   "id": "7637e719",
   "metadata": {},
   "outputs": [
    {
     "name": "stdout",
     "output_type": "stream",
     "text": [
      "r2 score = -1.6958750485488325\n"
     ]
    }
   ],
   "source": [
    "# calculate the r2 score\n",
    "from sklearn.metrics import r2_score\n",
    "y_prediction = model.predict(x_test)\n",
    "print(f\"r2 score = {r2_score(y_test, y_prediction)}\")"
   ]
  },
  {
   "cell_type": "code",
   "execution_count": 7,
   "id": "3eff7ea3",
   "metadata": {},
   "outputs": [
    {
     "data": {
      "text/plain": [
       "Text(0, 0.5, 'Salary')"
      ]
     },
     "execution_count": 7,
     "metadata": {},
     "output_type": "execute_result"
    },
    {
     "data": {
      "image/png": "[encoded data removed]",
      "text/plain": [
       "<Figure size 432x288 with 1 Axes>"
      ]
     },
     "metadata": {
      "needs_background": "light"
     },
     "output_type": "display_data"
    }
   ],
   "source": [
    "plt.scatter(x, y, color=\"blue\")\n",
    "plt.plot(x, model.predict(x), color=\"red\")\n",
    "plt.xlabel(\"Level\")\n",
    "plt.ylabel(\"Salary\")\n"
   ]
  },
  {
   "cell_type": "markdown",
   "id": "abf293de",
   "metadata": {},
   "source": [
    "## Linear Regression with polynomial features"
   ]
  },
  {
   "cell_type": "code",
   "execution_count": 31,
   "id": "b15506a6",
   "metadata": {},
   "outputs": [],
   "source": [
    "from sklearn.preprocessing import PolynomialFeatures\n",
    "polynomial_features = PolynomialFeatures(degree=4)\n",
    "\n",
    "# process all the x data values\n",
    "x_polynomial = polynomial_features.fit_transform(x)"
   ]
  },
  {
   "cell_type": "code",
   "execution_count": 32,
   "id": "5378e888",
   "metadata": {},
   "outputs": [
    {
     "data": {
      "text/plain": [
       "LinearRegression()"
      ]
     },
     "execution_count": 32,
     "metadata": {},
     "output_type": "execute_result"
    }
   ],
   "source": [
    "from sklearn.linear_model import LinearRegression\n",
    "\n",
    "model = LinearRegression()\n",
    "model.fit(x_polynomial, y)"
   ]
  },
  {
   "cell_type": "code",
   "execution_count": 33,
   "id": "10b99469",
   "metadata": {},
   "outputs": [
    {
     "name": "stdout",
     "output_type": "stream",
     "text": [
      "r2 score = 0.9973922891706615\n"
     ]
    }
   ],
   "source": [
    "# calculate the r2 score\n",
    "from sklearn.metrics import r2_score\n",
    "y_prediction = model.predict(x_polynomial)\n",
    "print(f\"r2 score = {r2_score(y, y_prediction)}\")"
   ]
  },
  {
   "cell_type": "code",
   "execution_count": 35,
   "id": "29ee9be6",
   "metadata": {},
   "outputs": [
    {
     "data": {
      "text/plain": [
       "Text(0, 0.5, 'Salary')"
      ]
     },
     "execution_count": 35,
     "metadata": {},
     "output_type": "execute_result"
    },
    {
     "data": {
      "image/png": "[encoded data removed]",
      "text/plain": [
       "<Figure size 432x288 with 1 Axes>"
      ]
     },
     "metadata": {
      "needs_background": "light"
     },
     "output_type": "display_data"
    }
   ],
   "source": [
    "plt.scatter(x, y_prediction, color=\"blue\")\n",
    "plt.plot(x, y_prediction, color=\"red\")\n",
    "plt.xlabel(\"Level\")\n",
    "plt.ylabel(\"Salary\")\n"
   ]
  },
  {
   "cell_type": "code",
   "execution_count": null,
   "id": "303865dd",
   "metadata": {},
   "outputs": [],
   "source": []
  }
 ],
 "metadata": {
  "kernelspec": {
   "display_name": "Python 3",
   "language": "python",
   "name": "python3"
  },
  "language_info": {
   "codemirror_mode": {
    "name": "ipython",
    "version": 3
   },
   "file_extension": ".py",
   "mimetype": "text/x-python",
   "name": "python",
   "nbconvert_exporter": "python",
   "pygments_lexer": "ipython3",
   "version": "3.8.2"
  }
 },
 "nbformat": 4,
 "nbformat_minor": 5
}
