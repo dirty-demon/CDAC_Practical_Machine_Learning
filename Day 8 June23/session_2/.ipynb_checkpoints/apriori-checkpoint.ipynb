{
 "cells": [
  {
   "cell_type": "code",
   "execution_count": 2,
   "id": "06fbb49b",
   "metadata": {},
   "outputs": [],
   "source": [
    "import numpy as np\n",
    "import pandas as pd\n",
    "import matplotlib.pyplot as plt\n",
    "import seaborn as sns"
   ]
  },
  {
   "cell_type": "code",
   "execution_count": 19,
   "id": "65f05088",
   "metadata": {},
   "outputs": [],
   "source": [
    "# load the data\n",
    "# the transactions file does not have any header\n",
    "# the first row is not the header but rather it is a transaction having number of product\n",
    "df = pd.read_csv('Market_Basket_Optimisation.csv', header=None)\n",
    "# print(df.columns)"
   ]
  },
  {
   "cell_type": "markdown",
   "id": "18460d5d",
   "metadata": {},
   "source": [
    "### process the transactions"
   ]
  },
  {
   "cell_type": "code",
   "execution_count": 27,
   "id": "3f317df8",
   "metadata": {},
   "outputs": [],
   "source": [
    "# collect all transactions\n",
    "transactions = []\n",
    "\n",
    "# number of transactions\n",
    "rows = df.shape[0]\n",
    "\n",
    "# fun a loop over the transactions and collect every transaction\n",
    "for row in range(rows):\n",
    "    # get all the columns from the row\n",
    "    items = df.iloc[row, :]\n",
    "\n",
    "    # collect all the items in a transaction\n",
    "    transaction = []\n",
    "    for item in items:\n",
    "        if not pd.isna(item):\n",
    "            transaction.append(item)\n",
    "    \n",
    "    # append the transaction to transactions\n",
    "    transactions.append(transaction)\n",
    "    "
   ]
  },
  {
   "cell_type": "code",
   "execution_count": null,
   "id": "f64a32db",
   "metadata": {},
   "outputs": [],
   "source": []
  }
 ],
 "metadata": {
  "kernelspec": {
   "display_name": "Python 3",
   "language": "python",
   "name": "python3"
  },
  "language_info": {
   "codemirror_mode": {
    "name": "ipython",
    "version": 3
   },
   "file_extension": ".py",
   "mimetype": "text/x-python",
   "name": "python",
   "nbconvert_exporter": "python",
   "pygments_lexer": "ipython3",
   "version": "3.8.2"
  }
 },
 "nbformat": 4,
 "nbformat_minor": 5
}
