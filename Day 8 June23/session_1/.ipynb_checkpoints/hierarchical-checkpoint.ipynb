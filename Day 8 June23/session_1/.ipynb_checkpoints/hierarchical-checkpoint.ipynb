{
 "cells": [
  {
   "cell_type": "code",
   "execution_count": 1,
   "id": "e7a71bbe",
   "metadata": {},
   "outputs": [],
   "source": [
    "import numpy as np\n",
    "import pandas as pd\n",
    "import matplotlib.pyplot as plt\n",
    "import seaborn as sns"
   ]
  },
  {
   "cell_type": "code",
   "execution_count": 2,
   "id": "89a00c6e",
   "metadata": {},
   "outputs": [
    {
     "name": "stdout",
     "output_type": "stream",
     "text": [
      "   CustomerID  Gender  Age  Annual Income (k$)  Spending Score (1-100)\n",
      "0           1    Male   19                  15                      39\n",
      "1           2    Male   21                  15                      81\n",
      "2           3  Female   20                  16                       6\n",
      "3           4  Female   23                  16                      77\n",
      "4           5  Female   31                  17                      40\n"
     ]
    }
   ],
   "source": [
    "df = pd.read_csv('Mall_Customers.csv')\n",
    "print(df.head())"
   ]
  },
  {
   "cell_type": "code",
   "execution_count": 4,
   "id": "c3d91e8f",
   "metadata": {},
   "outputs": [
    {
     "name": "stdout",
     "output_type": "stream",
     "text": [
      "   Annual Income (k$)  Spending Score (1-100)\n",
      "0                  15                      39\n",
      "1                  15                      81\n",
      "2                  16                       6\n",
      "3                  16                      77\n",
      "4                  17                      40\n"
     ]
    }
   ],
   "source": [
    "# clean the data\n",
    "df = df.drop(['CustomerID', 'Age', 'Gender'], axis=1)\n",
    "print(df.head())"
   ]
  },
  {
   "cell_type": "code",
   "execution_count": 11,
   "id": "232a39ca",
   "metadata": {},
   "outputs": [
    {
     "name": "stdout",
     "output_type": "stream",
     "text": [
      "[4 3 4 3 4 3 4 3 4 3 4 3 4 3 4 3 4 3 4 3 4 3 4 3 4 3 4 3 4 3 4 3 4 3 4 3 4\n",
      " 3 4 3 4 3 4 1 4 1 1 1 1 1 1 1 1 1 1 1 1 1 1 1 1 1 1 1 1 1 1 1 1 1 1 1 1 1\n",
      " 1 1 1 1 1 1 1 1 1 1 1 1 1 1 1 1 1 1 1 1 1 1 1 1 1 1 1 1 1 1 1 1 1 1 1 1 1\n",
      " 1 1 1 1 1 1 1 1 1 1 1 1 2 1 2 1 2 0 2 0 2 1 2 0 2 0 2 0 2 0 2 1 2 0 2 1 2\n",
      " 0 2 0 2 0 2 0 2 0 2 0 2 1 2 0 2 0 2 0 2 0 2 0 2 0 2 0 2 0 2 0 2 0 2 0 2 0\n",
      " 2 0 2 0 2 0 2 0 2 0 2 0 2 0 2]\n"
     ]
    }
   ],
   "source": [
    "### create the clusters\n",
    "from sklearn.cluster import AgglomerativeClustering\n",
    "\n",
    "# create the hiearchical model\n",
    "hiearchical = AgglomerativeClustering(n_clusters=5)\n",
    "\n",
    "# fit the data into the clusters\n",
    "clusters = hiearchical.fit_predict(df)\n",
    "print(clusters)"
   ]
  },
  {
   "cell_type": "markdown",
   "id": "4a06a24d",
   "metadata": {},
   "source": [
    "### visualization using KMeans method"
   ]
  },
  {
   "cell_type": "code",
   "execution_count": 15,
   "id": "fbe2a578",
   "metadata": {},
   "outputs": [
    {
     "data": {
      "text/plain": [
       "<matplotlib.legend.Legend at 0x1ae50f820>"
      ]
     },
     "execution_count": 15,
     "metadata": {},
     "output_type": "execute_result"
    },
    {
     "data": {
      "image/png": "[encoded data removed]",
      "text/plain": [
       "<Figure size 1080x576 with 1 Axes>"
      ]
     },
     "metadata": {
      "needs_background": "light"
     },
     "output_type": "display_data"
    }
   ],
   "source": [
    "plt.figure(figsize=(15, 8))\n",
    "colors = ['red', 'green', 'blue', 'brown', 'magenta']\n",
    "markers = ['.', '^', '1', 's', 'd']\n",
    "\n",
    "# create clusters\n",
    "for k in range(5):\n",
    "    plt.scatter(\n",
    "        df['Annual Income (k$)'][clusters == k], \n",
    "        df['Spending Score (1-100)'][clusters == k], \n",
    "        label=f\"cluster {k}\",\n",
    "        color=colors[k], \n",
    "        marker=markers[k])\n",
    "    \n",
    "plt.legend()"
   ]
  },
  {
   "cell_type": "markdown",
   "id": "33b39852",
   "metadata": {},
   "source": [
    "### visualization using dendogram"
   ]
  },
  {
   "cell_type": "code",
   "execution_count": 18,
   "id": "c0bc4377",
   "metadata": {},
   "outputs": [],
   "source": [
    "from scipy.cluster.hierarchy import dendrogram\n",
    "from scipy.cluster import hierarchy"
   ]
  },
  {
   "cell_type": "code",
   "execution_count": 20,
   "id": "9b4102c6",
   "metadata": {},
   "outputs": [
    {
     "name": "stdout",
     "output_type": "stream",
     "text": [
      "[[  5.          54.           1.41421356   2.        ]\n",
      " [ 26.         101.           1.41421356   2.        ]\n",
      " [ 15.          33.           1.41421356   2.        ]\n",
      " [ 20.          74.           1.41421356   2.        ]\n",
      " [  3.          47.           1.41421356   2.        ]\n",
      " [ 19.          22.           1.41421356   2.        ]\n",
      " [ 36.          57.           1.41421356   2.        ]\n",
      " [ 25.          43.           1.41421356   2.        ]\n",
      " [ 60.         127.           1.41421356   2.        ]\n",
      " [ 61.          62.           1.41421356   2.        ]\n",
      " [134.         157.           1.41421356   2.        ]\n",
      " [172.         176.           1.41421356   2.        ]\n",
      " [187.         191.           1.41421356   2.        ]\n",
      " [ 89.         112.           1.41421356   2.        ]\n",
      " [  0.           7.           2.23606798   2.        ]\n",
      " [  8.         213.           2.23606798   3.        ]\n",
      " [  6.          30.           2.23606798   2.        ]\n",
      " [  9.          11.           2.23606798   2.        ]\n",
      " [ 44.          55.           2.23606798   2.        ]\n",
      " [ 13.          16.           2.23606798   2.        ]\n",
      " [ 65.          97.           2.23606798   2.        ]\n",
      " [164.         170.           2.23606798   2.        ]\n",
      " [ 66.          81.           2.23606798   2.        ]\n",
      " [ 37.          38.           2.23606798   2.        ]\n",
      " [ 27.          68.           2.82842712   2.        ]\n",
      " [ 90.         118.           2.82842712   2.        ]\n",
      " [ 45.         201.           2.82842712   3.        ]\n",
      " [ 34.         203.           2.82842712   3.        ]\n",
      " [ 49.         204.           2.82842712   3.        ]\n",
      " [ 50.         227.           2.82842712   4.        ]\n",
      " [ 53.         206.           2.82842712   3.        ]\n",
      " [ 51.          79.           2.82842712   2.        ]\n",
      " [102.         207.           2.82842712   3.        ]\n",
      " [177.         188.           2.82842712   2.        ]\n",
      " [182.         186.           2.82842712   2.        ]\n",
      " [195.         197.           2.82842712   2.        ]\n",
      " [ 28.         224.           3.16227766   3.        ]\n",
      " [ 42.         235.           3.16227766   4.        ]\n",
      " [ 12.         216.           3.16227766   3.        ]\n",
      " [ 56.         218.           3.16227766   3.        ]\n",
      " [ 17.          18.           3.16227766   2.        ]\n",
      " [  2.         228.           3.16227766   5.        ]\n",
      " [ 59.         230.           3.16227766   3.        ]\n",
      " [ 21.         241.           3.16227766   4.        ]\n",
      " [111.         242.           3.16227766   5.        ]\n",
      " [192.         194.           3.16227766   2.        ]\n",
      " [  1.         199.           3.60555128   3.        ]\n",
      " [ 32.         238.           3.60555128   4.        ]\n",
      " [ 58.          77.           3.60555128   2.        ]\n",
      " [193.         234.           3.60555128   3.        ]\n",
      " [125.         131.           3.60555128   2.        ]\n",
      " [ 10.         237.           4.12310563   4.        ]\n",
      " [ 14.         239.           4.12310563   3.        ]\n",
      " [126.         249.           4.12310563   3.        ]\n",
      " [ 87.         223.           4.24264069   3.        ]\n",
      " [ 83.         253.           4.24264069   4.        ]\n",
      " [ 76.         254.           4.24264069   5.        ]\n",
      " [ 35.          48.           4.24264069   2.        ]\n",
      " [144.         209.           4.24264069   3.        ]\n",
      " [169.         220.           4.24264069   3.        ]\n",
      " [198.         248.           4.24264069   4.        ]\n",
      " [ 99.         255.           4.47213595   6.        ]\n",
      " [ 78.         256.           4.47213595   3.        ]\n",
      " [ 98.         109.           4.47213595   2.        ]\n",
      " [168.         258.           4.47213595   4.        ]\n",
      " [183.         184.           4.47213595   2.        ]\n",
      " [ 31.         214.           5.           4.        ]\n",
      " [ 29.         245.           5.           4.        ]\n",
      " [217.         246.           5.           6.        ]\n",
      " [196.         259.           5.           5.        ]\n",
      " [ 72.         236.           5.09901951   5.        ]\n",
      " [225.         251.           5.09901951   6.        ]\n",
      " [130.         135.           5.09901951   2.        ]\n",
      " [179.         185.           5.09901951   2.        ]\n",
      " [244.         268.           5.09901951   7.        ]\n",
      " [145.         271.           5.38516481   3.        ]\n",
      " [ 73.         260.           5.65685425   7.        ]\n",
      " [200.         275.           5.65685425   9.        ]\n",
      " [205.         240.           5.65685425   7.        ]\n",
      " [  4.         269.           5.83095189   6.        ]\n",
      " [ 94.         226.           5.83095189   4.        ]\n",
      " [208.         257.           5.83095189   5.        ]\n",
      " [ 39.         104.           5.83095189   2.        ]\n",
      " [153.         159.           6.08276253   2.        ]\n",
      " [ 69.         222.           6.08276253   3.        ]\n",
      " [ 95.         261.           6.32455532   4.        ]\n",
      " [103.         122.           6.32455532   2.        ]\n",
      " [215.         265.           6.40312424   6.        ]\n",
      " [266.         286.           6.40312424  10.        ]\n",
      " [276.         287.           6.40312424  19.        ]\n",
      " [ 75.         270.           6.40312424   7.        ]\n",
      " [110.         120.           6.40312424   2.        ]\n",
      " [ 46.         289.           6.70820393   8.        ]\n",
      " [181.         272.           6.70820393   3.        ]\n",
      " [278.         288.           7.07106781  25.        ]\n",
      " [202.         291.           7.07106781  10.        ]\n",
      " [279.         284.           7.07106781   8.        ]\n",
      " [152.         282.           7.07106781   3.        ]\n",
      " [171.         174.           7.07106781   2.        ]\n",
      " [233.         264.           7.07106781   4.        ]\n",
      " [211.         298.           7.07106781   6.        ]\n",
      " [232.         292.           7.21110255   5.        ]\n",
      " [190.         299.           7.21110255   7.        ]\n",
      " [ 70.          84.           7.21110255   2.        ]\n",
      " [ 96.         128.           7.21110255   2.        ]\n",
      " [139.         151.           7.28010989   2.        ]\n",
      " [115.         303.           7.61577311   3.        ]\n",
      " [294.         295.           7.81024968  18.        ]\n",
      " [143.         296.           8.06225775   4.        ]\n",
      " [ 41.         124.           8.06225775   2.        ]\n",
      " [ 23.         302.           8.06225775   3.        ]\n",
      " [147.         307.           8.24621125   5.        ]\n",
      " [178.         180.           8.24621125   2.        ]\n",
      " [231.         280.           8.48528137   8.        ]\n",
      " [273.         301.           8.48528137  14.        ]\n",
      " [117.         274.           8.60232527   4.        ]\n",
      " [146.         154.           8.60232527   2.        ]\n",
      " [ 82.         100.           8.94427191   2.        ]\n",
      " [297.         300.           8.94427191   7.        ]\n",
      " [163.         311.           8.94427191   3.        ]\n",
      " [ 88.         107.           9.05538514   2.        ]\n",
      " [313.         317.           9.05538514  21.        ]\n",
      " [189.         320.           9.05538514  22.        ]\n",
      " [ 64.         308.           9.05538514   3.        ]\n",
      " [250.         267.           9.21954446  10.        ]\n",
      " [306.         323.           9.21954446  28.        ]\n",
      " [106.         221.           9.21954446   3.        ]\n",
      " [132.         305.           9.21954446   4.        ]\n",
      " [293.         324.           9.43398113  53.        ]\n",
      " [316.         319.           9.43398113   4.        ]\n",
      " [158.         210.           9.48683298   3.        ]\n",
      " [321.         329.           9.8488578   25.        ]\n",
      " [277.         327.           9.89949494  60.        ]\n",
      " [136.         290.          10.04987562   3.        ]\n",
      " [243.         312.          10.29563014  13.        ]\n",
      " [161.         310.          10.63014581   6.        ]\n",
      " [175.         330.          10.77032961  26.        ]\n",
      " [149.         315.          10.81665383   3.        ]\n",
      " [262.         332.          11.04536102   5.        ]\n",
      " [148.         328.          11.18033989   5.        ]\n",
      " [334.         336.          11.18033989   9.        ]\n",
      " [263.         335.          11.18033989  30.        ]\n",
      " [229.         331.          11.3137085   63.        ]\n",
      " [155.         339.          11.3137085   10.        ]\n",
      " [ 52.          71.          11.40175425   2.        ]\n",
      " [ 24.          80.          11.70469991   2.        ]\n",
      " [314.         342.          12.20655562  14.        ]\n",
      " [318.         340.          12.52996409  33.        ]\n",
      " [343.         344.          12.64911064   4.        ]\n",
      " [333.         341.          12.80624847  76.        ]\n",
      " [165.         173.          12.80624847   2.        ]\n",
      " [150.         166.          12.80624847   2.        ]\n",
      " [322.         325.          13.           6.        ]\n",
      " [337.         345.          13.03840481  19.        ]\n",
      " [160.         352.          13.03840481  20.        ]\n",
      " [105.         338.          13.60147051   6.        ]\n",
      " [346.         353.          13.89244399  53.        ]\n",
      " [138.         304.          14.03566885   3.        ]\n",
      " [129.         355.          14.14213562  54.        ]\n",
      " [347.         351.          14.14213562  10.        ]\n",
      " [113.         133.          14.14213562   2.        ]\n",
      " [219.         247.          14.4222051    4.        ]\n",
      " [ 86.          92.          14.86606875   2.        ]\n",
      " [142.         357.          15.03329638  55.        ]\n",
      " [354.         362.          15.23154621  61.        ]\n",
      " [162.         350.          15.23154621   3.        ]\n",
      " [212.         361.          15.5241747    4.        ]\n",
      " [ 40.          91.          15.5241747    2.        ]\n",
      " [356.         363.          15.8113883   64.        ]\n",
      " [114.         116.          16.15549442   2.        ]\n",
      " [137.         326.          16.2788206    5.        ]\n",
      " [283.         358.          16.4924225   13.        ]\n",
      " [121.         285.          16.97056275   3.        ]\n",
      " [309.         370.          17.20465053  16.        ]\n",
      " [ 67.         372.          17.2626765   17.        ]\n",
      " [141.         367.          17.80449381  65.        ]\n",
      " [ 85.         373.          17.80449381  18.        ]\n",
      " [371.         374.          18.02775638  68.        ]\n",
      " [281.         375.          19.41648784  20.        ]\n",
      " [359.         369.          20.           7.        ]\n",
      " [360.         376.          20.80865205  72.        ]\n",
      " [252.         368.          21.09502311   5.        ]\n",
      " [140.         364.          21.47091055   4.        ]\n",
      " [167.         349.          22.56102835   3.        ]\n",
      " [ 63.         108.          23.60084744   2.        ]\n",
      " [377.         383.          23.85372088  22.        ]\n",
      " [378.         384.          24.08318916  29.        ]\n",
      " [119.         385.          24.18677324  30.        ]\n",
      " [348.         379.          24.75883681 148.        ]\n",
      " [ 93.         365.          25.01999201   5.        ]\n",
      " [386.         388.          25.05992817  35.        ]\n",
      " [387.         389.          25.45584412 183.        ]\n",
      " [123.         380.          27.31300057   6.        ]\n",
      " [382.         390.          27.65863337 186.        ]\n",
      " [381.         392.          28.16025568 190.        ]\n",
      " [366.         393.          30.61045573 192.        ]\n",
      " [391.         394.          30.61045573 198.        ]\n",
      " [156.         395.          46.69047012 199.        ]]\n"
     ]
    }
   ],
   "source": [
    "linkage_matrix = hierarchy.linkage(hiearchical.children_)\n",
    "# print(linkage_matrix)"
   ]
  },
  {
   "cell_type": "code",
   "execution_count": null,
   "id": "041708ab",
   "metadata": {},
   "outputs": [],
   "source": []
  }
 ],
 "metadata": {
  "kernelspec": {
   "display_name": "Python 3",
   "language": "python",
   "name": "python3"
  },
  "language_info": {
   "codemirror_mode": {
    "name": "ipython",
    "version": 3
   },
   "file_extension": ".py",
   "mimetype": "text/x-python",
   "name": "python",
   "nbconvert_exporter": "python",
   "pygments_lexer": "ipython3",
   "version": "3.8.2"
  }
 },
 "nbformat": 4,
 "nbformat_minor": 5
}
